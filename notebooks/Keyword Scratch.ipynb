{
 "cells": [
  {
   "cell_type": "code",
   "execution_count": 6,
   "metadata": {
    "collapsed": true
   },
   "outputs": [],
   "source": [
    "import pymongo\n",
    "import os\n",
    "os.chdir(\"..\")\n",
    "os.getcwd()\n",
    "\n",
    "from pubcrawler.article import Article"
   ]
  },
  {
   "cell_type": "code",
   "execution_count": 7,
   "metadata": {
    "collapsed": false
   },
   "outputs": [],
   "source": [
    "articles = pymongo.MongoClient().pmc.articlesubset"
   ]
  },
  {
   "cell_type": "code",
   "execution_count": 8,
   "metadata": {
    "collapsed": false
   },
   "outputs": [
    {
     "data": {
      "text/plain": [
       "10000"
      ]
     },
     "execution_count": 8,
     "metadata": {},
     "output_type": "execute_result"
    }
   ],
   "source": [
    "articles.count()"
   ]
  },
  {
   "cell_type": "code",
   "execution_count": null,
   "metadata": {
    "collapsed": false
   },
   "outputs": [],
   "source": [
    "cursor = articles.find()"
   ]
  },
  {
   "cell_type": "code",
   "execution_count": null,
   "metadata": {
    "collapsed": false,
    "scrolled": true
   },
   "outputs": [],
   "source": [
    "kwds = []\n",
    "for nxml_doc in articles.find():\n",
    "    article = Article(nxml_doc)\n",
    "    all_kwds.append(article.keywords(\"\"))\n",
    "    kwds.append(article.keywords())"
   ]
  },
  {
   "cell_type": "code",
   "execution_count": null,
   "metadata": {
    "collapsed": false
   },
   "outputs": [],
   "source": [
    "len(kwds)"
   ]
  },
  {
   "cell_type": "code",
   "execution_count": null,
   "metadata": {
    "collapsed": false
   },
   "outputs": [],
   "source": [
    "empty = []\n",
    "for kwds in kwds:\n",
    "    empty.append(kwds == [])"
   ]
  },
  {
   "cell_type": "code",
   "execution_count": null,
   "metadata": {
    "collapsed": true
   },
   "outputs": [],
   "source": [
    "sum(empty)"
   ]
  },
  {
   "cell_type": "code",
   "execution_count": null,
   "metadata": {
    "collapsed": true
   },
   "outputs": [],
   "source": [
    "infectious = []\n",
    "for kwd in front_kwds:\n",
    "    infectious.append(\"infect\" in kwd)"
   ]
  },
  {
   "cell_type": "code",
   "execution_count": null,
   "metadata": {
    "collapsed": false
   },
   "outputs": [],
   "source": [
    "sum(infectious)"
   ]
  },
  {
   "cell_type": "code",
   "execution_count": null,
   "metadata": {
    "collapsed": false
   },
   "outputs": [],
   "source": [
    "x = Article(cursor.next())"
   ]
  },
  {
   "cell_type": "code",
   "execution_count": null,
   "metadata": {
    "collapsed": false
   },
   "outputs": [],
   "source": [
    "x.article_type()"
   ]
  },
  {
   "cell_type": "code",
   "execution_count": 9,
   "metadata": {
    "collapsed": false
   },
   "outputs": [
    {
     "name": "stdout",
     "output_type": "stream",
     "text": [
      "Processed 100 articles, found 74 research articles\n",
      "Processed 200 articles, found 147 research articles\n",
      "Processed 300 articles, found 222 research articles\n",
      "Processed 400 articles, found 294 research articles\n",
      "Processed 500 articles, found 377 research articles\n",
      "Processed 600 articles, found 454 research articles\n",
      "Processed 700 articles, found 527 research articles\n",
      "Processed 800 articles, found 610 research articles\n",
      "Processed 900 articles, found 687 research articles\n",
      "Processed 1000 articles, found 763 research articles\n",
      "Processed 1100 articles, found 847 research articles\n",
      "Processed 1200 articles, found 926 research articles\n",
      "Processed 1300 articles, found 1009 research articles\n",
      "Processed 1400 articles, found 1090 research articles\n",
      "Processed 1500 articles, found 1166 research articles\n",
      "Processed 1600 articles, found 1243 research articles\n",
      "Processed 1700 articles, found 1322 research articles\n",
      "Processed 1800 articles, found 1400 research articles\n",
      "Processed 1900 articles, found 1474 research articles\n",
      "Processed 2000 articles, found 1546 research articles\n",
      "Processed 2100 articles, found 1621 research articles\n",
      "Processed 2200 articles, found 1694 research articles\n",
      "Processed 2300 articles, found 1771 research articles\n",
      "Processed 2400 articles, found 1841 research articles\n",
      "Processed 2500 articles, found 1927 research articles\n",
      "Processed 2600 articles, found 2003 research articles\n",
      "Processed 2700 articles, found 2082 research articles\n",
      "Processed 2800 articles, found 2165 research articles\n",
      "Processed 2900 articles, found 2239 research articles\n",
      "Processed 3000 articles, found 2322 research articles\n",
      "Processed 3100 articles, found 2390 research articles\n",
      "Processed 3200 articles, found 2460 research articles\n",
      "Processed 3300 articles, found 2536 research articles\n",
      "Processed 3400 articles, found 2609 research articles\n",
      "Processed 3500 articles, found 2685 research articles\n",
      "Processed 3600 articles, found 2765 research articles\n",
      "Processed 3700 articles, found 2843 research articles\n",
      "Processed 3800 articles, found 2920 research articles\n",
      "Processed 3900 articles, found 2997 research articles\n",
      "Processed 4000 articles, found 3075 research articles\n",
      "Processed 4100 articles, found 3150 research articles\n",
      "Processed 4200 articles, found 3226 research articles\n",
      "Processed 4300 articles, found 3299 research articles\n",
      "Processed 4400 articles, found 3382 research articles\n",
      "Processed 4500 articles, found 3456 research articles\n",
      "Processed 4600 articles, found 3531 research articles\n",
      "Processed 4700 articles, found 3609 research articles\n",
      "Processed 4800 articles, found 3681 research articles\n",
      "Processed 4900 articles, found 3764 research articles\n",
      "Processed 5000 articles, found 3844 research articles\n",
      "Processed 5100 articles, found 3918 research articles\n",
      "Processed 5200 articles, found 4001 research articles\n",
      "Processed 5300 articles, found 4075 research articles\n",
      "Processed 5400 articles, found 4159 research articles\n",
      "Processed 5500 articles, found 4241 research articles\n",
      "Processed 5600 articles, found 4317 research articles\n",
      "Processed 5700 articles, found 4390 research articles\n",
      "Processed 5800 articles, found 4463 research articles\n",
      "Processed 5900 articles, found 4538 research articles\n",
      "Processed 6000 articles, found 4614 research articles\n",
      "Processed 6100 articles, found 4692 research articles\n",
      "Processed 6200 articles, found 4765 research articles\n",
      "Processed 6300 articles, found 4841 research articles\n",
      "Processed 6400 articles, found 4916 research articles\n",
      "Processed 6500 articles, found 4992 research articles\n",
      "Processed 6600 articles, found 5070 research articles\n",
      "Processed 6700 articles, found 5153 research articles\n",
      "Processed 6800 articles, found 5237 research articles\n",
      "Processed 6900 articles, found 5315 research articles\n",
      "Processed 7000 articles, found 5395 research articles\n",
      "Processed 7100 articles, found 5471 research articles\n",
      "Processed 7200 articles, found 5556 research articles\n",
      "Processed 7300 articles, found 5630 research articles\n",
      "Processed 7400 articles, found 5713 research articles\n",
      "Processed 7500 articles, found 5785 research articles\n",
      "Processed 7600 articles, found 5864 research articles\n",
      "Processed 7700 articles, found 5939 research articles\n",
      "Processed 7800 articles, found 6020 research articles\n",
      "Processed 7900 articles, found 6091 research articles\n",
      "Processed 8000 articles, found 6163 research articles\n",
      "Processed 8100 articles, found 6237 research articles\n",
      "Processed 8200 articles, found 6308 research articles\n",
      "Processed 8300 articles, found 6385 research articles\n",
      "Processed 8400 articles, found 6455 research articles\n",
      "Processed 8500 articles, found 6536 research articles\n",
      "Processed 8600 articles, found 6611 research articles\n",
      "Processed 8700 articles, found 6690 research articles\n",
      "Processed 8800 articles, found 6768 research articles\n",
      "Processed 8900 articles, found 6841 research articles\n",
      "Processed 9000 articles, found 6915 research articles\n",
      "Processed 9100 articles, found 6990 research articles\n",
      "Processed 9200 articles, found 7069 research articles\n",
      "Processed 9300 articles, found 7147 research articles\n",
      "Processed 9400 articles, found 7227 research articles\n",
      "Processed 9500 articles, found 7305 research articles\n",
      "Processed 9600 articles, found 7384 research articles\n",
      "Processed 9700 articles, found 7461 research articles\n",
      "Processed 9800 articles, found 7540 research articles\n",
      "Processed 9900 articles, found 7622 research articles\n",
      "Processed 10000 articles, found 7697 research articles\n"
     ]
    }
   ],
   "source": [
    "article_types = []\n",
    "n_processed = 0\n",
    "research_articles = 0\n",
    "for nxml_doc in articles.find():\n",
    "    n_processed += 1\n",
    "    article = Article(nxml_doc)\n",
    "    article_types.append(article.article_type())\n",
    "    if article.article_type() == \"research-article\":\n",
    "        research_articles += 1\n",
    "    if n_processed % 100 == 0:\n",
    "        print(\"Processed {} articles, found {} research articles\".format(n_processed, research_articles))"
   ]
  },
  {
   "cell_type": "code",
   "execution_count": null,
   "metadata": {
    "collapsed": true
   },
   "outputs": [],
   "source": []
  },
  {
   "cell_type": "code",
   "execution_count": null,
   "metadata": {
    "collapsed": false
   },
   "outputs": [],
   "source": [
    "foo.append(None)\n",
    "print(foo)"
   ]
  },
  {
   "cell_type": "code",
   "execution_count": 2,
   "metadata": {
    "collapsed": false
   },
   "outputs": [
    {
     "data": {
      "text/plain": [
       "0"
      ]
     },
     "execution_count": 2,
     "metadata": {},
     "output_type": "execute_result"
    }
   ],
   "source": [
    "200 % 100"
   ]
  },
  {
   "cell_type": "code",
   "execution_count": null,
   "metadata": {
    "collapsed": true
   },
   "outputs": [],
   "source": []
  }
 ],
 "metadata": {
  "kernelspec": {
   "display_name": "Python 3",
   "language": "python",
   "name": "python3"
  },
  "language_info": {
   "codemirror_mode": {
    "name": "ipython",
    "version": 3
   },
   "file_extension": ".py",
   "mimetype": "text/x-python",
   "name": "python",
   "nbconvert_exporter": "python",
   "pygments_lexer": "ipython3",
   "version": "3.5.2"
  }
 },
 "nbformat": 4,
 "nbformat_minor": 0
}
