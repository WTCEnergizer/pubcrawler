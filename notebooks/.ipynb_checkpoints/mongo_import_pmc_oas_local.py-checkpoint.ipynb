{
 "cells": [
  {
   "cell_type": "code",
   "execution_count": 54,
   "metadata": {
    "collapsed": true
   },
   "outputs": [],
   "source": [
    "import pymongo\n",
    "import time\n",
    "import os\n",
    "import glob"
   ]
  },
  {
   "cell_type": "code",
   "execution_count": 19,
   "metadata": {
    "collapsed": false
   },
   "outputs": [
    {
     "data": {
      "text/plain": [
       "Database(MongoClient(host=['localhost:27017'], document_class=dict, tz_aware=False, connect=True), 'pmc')"
      ]
     },
     "execution_count": 19,
     "metadata": {},
     "output_type": "execute_result"
    }
   ],
   "source": [
    "client = pymongo.MongoClient()\n",
    "client.database_names()\n",
    "pmc = client.pmc\n",
    "pmc\n"
   ]
  },
  {
   "cell_type": "code",
   "execution_count": 20,
   "metadata": {
    "collapsed": false
   },
   "outputs": [
    {
     "data": {
      "text/plain": [
       "Collection(Database(MongoClient(host=['localhost:27017'], document_class=dict, tz_aware=False, connect=True), 'pmc'), 'articles')"
      ]
     },
     "execution_count": 20,
     "metadata": {},
     "output_type": "execute_result"
    }
   ],
   "source": [
    "articles = pmc.articles\n",
    "articles"
   ]
  },
  {
   "cell_type": "code",
   "execution_count": 44,
   "metadata": {
    "collapsed": false
   },
   "outputs": [],
   "source": [
    "def get_article(file_path):\n",
    "    base = os.path.basename(file_path)\n",
    "    name = os.path.splitext(base)[0]\n",
    "    with open(file_path, 'r') as f:\n",
    "        nxml = f.read()\n",
    "    article = {\"_id\": name,\n",
    "               \"nxml\": nxml}\n",
    "    return(article)"
   ]
  },
  {
   "cell_type": "code",
   "execution_count": 45,
   "metadata": {
    "collapsed": false
   },
   "outputs": [
    {
     "data": {
      "text/plain": [
       "{'_id': 'J_Infect_Dis_2011_Aug_1_204(3)_488-489',\n",
       " 'nxml': '<!DOCTYPE article PUBLIC \"-//NLM//DTD JATS (Z39.96) Journal Archiving and Interchange DTD v1.0 20120330//EN\" \"JATS-archivearticle1.dtd\">\\n<article xmlns:xlink=\"http://www.w3.org/1999/xlink\" xmlns:mml=\"http://www.w3.org/1998/Math/MathML\" article-type=\"letter\"><?properties open_access?><front><journal-meta><journal-id journal-id-type=\"nlm-ta\">J Infect Dis</journal-id><journal-id journal-id-type=\"hwp\">jinfdis</journal-id><journal-id journal-id-type=\"publisher-id\">jinfdis</journal-id><journal-title-group><journal-title>The Journal of Infectious Diseases</journal-title></journal-title-group><issn pub-type=\"ppub\">0022-1899</issn><issn pub-type=\"epub\">1537-6613</issn><publisher><publisher-name>Oxford University Press</publisher-name></publisher></journal-meta><article-meta><article-id pub-id-type=\"pmid\">21742850</article-id><article-id pub-id-type=\"pmc\">3132142</article-id><article-id pub-id-type=\"doi\">10.1093/infdis/jir274</article-id><article-categories><subj-group subj-group-type=\"heading\"><subject>Correspondence</subject></subj-group></article-categories><title-group><article-title>A Potential Role of Indoleamine 2,3-Dioxygenase&#x02013;Specific T cells in <italic>Leishma</italic><italic>nia</italic> Vaccination</article-title></title-group><contrib-group><contrib contrib-type=\"author\"><name><surname>Straten</surname><given-names>Per thor</given-names></name></contrib><contrib contrib-type=\"author\" corresp=\"yes\"><name><surname>Andersen</surname><given-names>Mads Hald</given-names></name></contrib></contrib-group><aff>Center for Cancer Immune Therapy (CCIT), Department of Hematology, 54P4, Copenhagen University Hospital, Herlev, Denmark</aff><author-notes><corresp>Correspondence: Mads Hald Andersen, PhD, DScTech, Center for Cancer Immune Therapy (CCIT), Department of Hematology, Pavillon 9, 65Q9, Copenhagen University Hospital, Herlev, Herlev Ringvej 75, Dk-2730 Herlev, Denmark (<email>mahaan01@heh.regionh.dk</email>).</corresp><fn><p>Potential conflicts of interest: The authors have previously filed a patent application based on the use of indoleamine 2,3-dioxygenase for vaccination. The rights of the patent application have been transferred to Herlev University Hospital through the Capital Region of Denmark.</p></fn></author-notes><pub-date pub-type=\"ppub\"><day>01</day><month>8</month><year>2011</year></pub-date><pub-date pub-type=\"pmc-release\"><day>01</day><month>8</month><year>2011</year></pub-date><!-- PMC Release delay is 0 months and 0 days and was based on the\\n\\t\\t\\t\\t\\t\\t\\t<pub-date pub-type=\"ppub\"/>. --><volume>204</volume><issue>3</issue><fpage>488</fpage><lpage>489</lpage><history><date date-type=\"received\"><day>11</day><month>2</month><year>2011</year></date><date date-type=\"accepted\"><day>25</day><month>3</month><year>2011</year></date></history><permissions><copyright-statement>&#x000a9; The Author 2011. Published by Oxford University Press on behalf of the Infectious Diseases Society of America. All rights reserved.</copyright-statement><copyright-year>2011</copyright-year><license license-type=\"open-access\"><license-p><!--CREATIVE COMMONS-->This is an Open Access article distributed under the terms of the Creative Commons Attribution Non-Commercial License (<ext-link ext-link-type=\"uri\" xlink:href=\"http://creativecommons.org/licenses/by-nc/2.5\">http://creativecommons.org/licenses/by-nc/2.5</ext-link>), which permits unrestricted non-commercial use, distribution, and reproduction in any medium, provided the original work is properly cited.</license-p></license></permissions></article-meta></front><body><p>T<sc>O THE</sc> E<sc>DITOR</sc>&#x02014;In a recent issue of the<italic> Journal</italic>, Makala and colleagues elegantly describe that indoleamine 2,3-dioxygenase (IDO) is increased in lymph nodes in cutaneous <italic>Leishmania major</italic> infection [<xref ref-type=\"bibr\" rid=\"bib1\">1</xref>]. IDO is implicated in suppressing T-cell immunity to parasite antigens, and IDO inhibition reduced local inflammation and parasite burdens. IDO is an immunoregulatory enzyme implicated in immunity under normal and pathological settings [<xref ref-type=\"bibr\" rid=\"bib2\">2</xref>], and provides a potential mechanism for the development of dendritic cell (DC)&#x02013;mediated T-cell tolerance [<xref ref-type=\"bibr\" rid=\"bib3\">3</xref>]. IDO<sup>+</sup> DCs inhibit T-cell proliferation due to tryptophan depletion and accumulation of toxic tryptophan metabolites [<xref ref-type=\"bibr\" rid=\"bib2\">2</xref>]. IDO may be relevant to the outcome of immunotherapy as an inflammation-induced counter-regulatory mechanism, and may be induced by both type I and II interferons, which are found at sites of immune activation and inflammation [<xref ref-type=\"bibr\" rid=\"bib4\">4</xref>]. Counter-regulatory responses are important as they help to limit the intensity and extent of immune responses, which otherwise could cause dangerous damage to the host. However, with regard to vaccination, counter-regulatory responses antagonize the ability to create an intense immune response against the target. The findings by Makala et al support a counter-regulatory role for IDO that benefits the pathogen, not the host. In this regard, an interesting aspect of IDO is that systemic inactivation at the organism level, either pharmacologically or genetically, does not appear to cause autoimmunity [<xref ref-type=\"bibr\" rid=\"bib5\">5</xref>]. IDO may not be involved in tolerance to self, but rather in tolerance to nonself antigens, where immune nonresponsiveness may be important, for example, fetal antigens [<xref ref-type=\"bibr\" rid=\"bib5\">5</xref>]. Induction of IDO<sup>+</sup> tolerogenic DCs occurs during infection of DCs with viruses and intracellular pathogens, such as <italic>Listeria monocytogenes</italic>.</p><p>We have described that peptides comprised in the IDO protein sequence are spontaneously recognized by cytotoxic T cells in cancer patients [<xref ref-type=\"bibr\" rid=\"bib6\">6</xref>] and healthy individuals [<xref ref-type=\"bibr\" rid=\"bib7\">7</xref>]. IDO-reactive T cells recognized and killed IDO-expressing cells, for example, tumor cells or regulatory DCs. Importantly, the presence of such IDO-specific CD8<sup>+</sup> T cells boosted T-cell immunity against viral or tumor-associated antigens by eliminating IDO<sup>+</sup> suppressive cells, thereby directly targeting the IDO-dependent counter-regulatory pathway. The direct killing of IDO-expressing cells diminished IDO-mediated suppression of effector T cells and decreased the local Treg suppression by reprogramming Tregs to acquire a pro-inflammatory Th17-like phenotype under influence of increased interleukin-6 production. It was recently described that Treg cells can undergo rapid reprogramming into activated T-helper cells after vaccination in combination with toll-like receptor 9 [<xref ref-type=\"bibr\" rid=\"bib8\">8</xref>]. The conversion of the Tregs was suppressed by tumor-induced IDO expression. The pharmacologic inhibition of IDO restored Treg cell reprogramming, vaccine efficacy, and antitumor CD8<sup>+</sup> T-cell responses. Thus, reprogramming of Treg cells may play a vital role in certain early CD8<sup>+</sup> T cell responses.</p><p>Finally, IDO<sup>+</sup> cells may be suppressive by other means than IDO, for example, arginase, PD-L1, or HLA-G. Hence, IDO-specific T cells may reduce not only IDO-mediated suppression but, in addition, immune suppression mediated by IDO<sup>+</sup> regulatory cells. To examine the possible effects (and/or side effects) of the induction of IDO-specific T cells, a phase I vaccination study is ongoing at the Center for Cancer Immune Therapy, Copenhagen University Hospital, in which patients with non-small-cell lung cancer are vaccinated with an IDO-derived peptide with Montanide adjuvant (<ext-link ext-link-type=\"uri\" xlink:href=\"www.clinicaltrials.gov\">www.clinicaltrials.gov</ext-link>; NCT01219348).</p><p>Different species of <italic>Leishmania</italic> are responsible for cutaneous, mucocutaneous, or visceral leishmaniasis infections in millions of people. Adverse reactions caused by antileishmanial drugs, emergence of resistance, and lack of a vaccine have motivated the search for new therapeutic options to control this disease. There have been notable advances in molecular diagnostics, in the understanding of host immune responses to infection, and in vaccine development. The fact that IDO may be involved in tolerance to nonself antigens might have major implications for IDO-based immune therapy as boosting immunity to neoantigens, but not normal self-antigens, by the activation of IDO-specific T cells is very attractive. As described by Makala et al, IDO suppresses adaptive immunity, suggesting that in the clinical setting, the targeting of IDO could have synergistic effects in <italic>Leishmania</italic> vaccine development. Thus, the induction of IDO-specific immune responses by therapeutic measures could function synergistically with additional immune therapy. Almost any successful immune therapy strategy aims at inducing immunological activation and inflammation. Since IDO-expressing cells might antagonize the desired effects of other immunotherapeutic approaches, targeting IDO-expressing cells by vaccination would be easily implementable and compatible with such therapeutic measures. It should finally be noted that it is premature to assume that targeting IDO-expressing cells (using enzyme inhibitors or IDO-specific vaccines) will not induce autoimmunity (or other side effects). This needs to be considered in a clinical setting.</p><sec sec-type=\"\"><title>Funding</title><p>This work was supported by grants from the the <funding-source>Novo Nordisk Foundation</funding-source>, <funding-source>Danish Cancer Society</funding-source>, <funding-source>Danish Medical Research Council</funding-source>, the <funding-source>John and Birthe Meyer Foundation, and Herlev Hospital</funding-source>.</p></sec></body><back><ref-list><ref id=\"bib1\"><label>1.</label><element-citation publication-type=\"journal\"><person-group person-group-type=\"author\"><name><surname>Makala</surname><given-names>LH</given-names></name><name><surname>Baban</surname><given-names>B</given-names></name><name><surname>Lemos</surname><given-names>H</given-names></name><etal/></person-group><article-title><italic>Leishmania major</italic> attenuates host immunity by stimulating local indoleamine 2,3-dioxygenase expression</article-title><source>J Infect Dis</source><year>2011</year><volume>203</volume><fpage>715</fpage><lpage>25</lpage><pub-id pub-id-type=\"pmid\">21282196</pub-id></element-citation></ref><ref id=\"bib2\"><label>2.</label><element-citation publication-type=\"journal\"><person-group person-group-type=\"author\"><name><surname>Munn</surname><given-names>DH</given-names></name><name><surname>Mellor</surname><given-names>AL</given-names></name></person-group><article-title>Indoleamine 2,3-dioxygenase and tumor-induced tolerance</article-title><source>J Clin Invest</source><year>2007</year><volume>117</volume><fpage>1147</fpage><lpage>54</lpage><pub-id pub-id-type=\"pmid\">17476344</pub-id></element-citation></ref><ref id=\"bib3\"><label>3.</label><element-citation publication-type=\"journal\"><person-group person-group-type=\"author\"><name><surname>Sharma</surname><given-names>MD</given-names></name><name><surname>Baban</surname><given-names>B</given-names></name><name><surname>Chandler</surname><given-names>P</given-names></name><etal/></person-group><article-title>Plasmacytoid dendritic cells from mouse tumor-draining lymph nodes directly activate mature Tregs via indoleamine 2,3-dioxygenase</article-title><source>J Clin Invest</source><year>2007</year><volume>117</volume><fpage>2570</fpage><lpage>82</lpage><pub-id pub-id-type=\"pmid\">17710230</pub-id></element-citation></ref><ref id=\"bib4\"><label>4.</label><element-citation publication-type=\"journal\"><person-group person-group-type=\"author\"><name><surname>Baban</surname><given-names>B</given-names></name><name><surname>Hansen</surname><given-names>AM</given-names></name><name><surname>Chandler</surname><given-names>PR</given-names></name><etal/></person-group><article-title>A minor population of splenic dendritic cells expressing CD19 mediates IDO-dependent T cell suppression via type I IFN signaling following B7 ligation</article-title><source>Int Immunol</source><year>2005</year><volume>17</volume><fpage>909</fpage><lpage>19</lpage><pub-id pub-id-type=\"pmid\">15967784</pub-id></element-citation></ref><ref id=\"bib5\"><label>5.</label><element-citation publication-type=\"journal\"><person-group person-group-type=\"author\"><name><surname>Mellor</surname><given-names>AL</given-names></name><name><surname>Munn</surname><given-names>DH</given-names></name></person-group><article-title>Creating immune privilege: active local suppression that benefits friends, but protects foes</article-title><source>Nat Rev Immunol</source><year>2008</year><volume>8</volume><fpage>74</fpage><lpage>80</lpage><pub-id pub-id-type=\"pmid\">18064049</pub-id></element-citation></ref><ref id=\"bib6\"><label>6.</label><element-citation publication-type=\"journal\"><person-group person-group-type=\"author\"><name><surname>Sorensen</surname><given-names>RB</given-names></name><name><surname>Berge-Hansen</surname><given-names>L</given-names></name><name><surname>Junker</surname><given-names>N</given-names></name><etal/></person-group><article-title>The immune system strikes back: cellular immune responses against indoleamine 2,3-dioxygenase</article-title><source>PLoS One</source><year>2009</year><volume>4</volume><fpage>e6910</fpage><pub-id pub-id-type=\"pmid\">19738905</pub-id></element-citation></ref><ref id=\"bib7\"><label>7.</label><element-citation publication-type=\"journal\"><person-group person-group-type=\"author\"><name><surname>Sorensen</surname><given-names>RB</given-names></name><name><surname>Hadrup</surname><given-names>SR</given-names></name><name><surname>Svane</surname><given-names>IM</given-names></name><name><surname>Hjortso</surname><given-names>MC</given-names></name><name><surname>Thor</surname><given-names>SP</given-names></name><name><surname>Andersen</surname><given-names>MH</given-names></name></person-group><article-title>Indoleamine 2,3-dioxygenase specific, cytotoxic T cells as immune regulators</article-title><source>Blood</source><year>2010</year><volume>117</volume><fpage>2200</fpage><lpage>10</lpage><pub-id pub-id-type=\"pmid\">21079151</pub-id></element-citation></ref><ref id=\"bib8\"><label>8.</label><element-citation publication-type=\"journal\"><person-group person-group-type=\"author\"><name><surname>Sharma</surname><given-names>MD</given-names></name><name><surname>Hou</surname><given-names>DY</given-names></name><name><surname>Baban</surname><given-names>B</given-names></name><etal/></person-group><article-title>Reprogrammed foxp3(+) regulatory T cells provide essential help to support cross-presentation and CD8(+) T cell priming in naive mice</article-title><source>Immunity</source><year>2010</year><volume>33</volume><fpage>942</fpage><lpage>54</lpage><pub-id pub-id-type=\"pmid\">21145762</pub-id></element-citation></ref></ref-list></back></article>'}"
      ]
     },
     "execution_count": 45,
     "metadata": {},
     "output_type": "execute_result"
    }
   ],
   "source": [
    "x = \"/Volumes/Transcend/pmc-subset/articles.I-N/\"\\\n",
    "    \"J_Infect_Dis/J_Infect_Dis_2011_Aug_1_204(3)_488-489.nxml\"\n",
    "get_article(x)"
   ]
  },
  {
   "cell_type": "code",
   "execution_count": 38,
   "metadata": {
    "collapsed": false
   },
   "outputs": [
    {
     "data": {
      "text/plain": [
       "<pymongo.results.InsertOneResult at 0x104e4bd80>"
      ]
     },
     "execution_count": 38,
     "metadata": {},
     "output_type": "execute_result"
    }
   ],
   "source": [
    "articles.insert_one(article)"
   ]
  },
  {
   "cell_type": "code",
   "execution_count": 47,
   "metadata": {
    "collapsed": true
   },
   "outputs": [],
   "source": [
    "path_to_articles = \"/Volumes/Transcend/pmc-subset\""
   ]
  },
  {
   "cell_type": "code",
   "execution_count": 102,
   "metadata": {
    "collapsed": false
   },
   "outputs": [],
   "source": [
    "article_paths = []\n",
    "for (dirpath, dirnames, filenames) in os.walk(path_to_articles):\n",
    "    for name in filenames:\n",
    "        filepath = os.path.join(dirpath, name)\n",
    "        if filepath.endswith('nxml'):\n",
    "            article_paths.append(filepath)"
   ]
  },
  {
   "cell_type": "code",
   "execution_count": 103,
   "metadata": {
    "collapsed": false,
    "scrolled": true
   },
   "outputs": [
    {
     "data": {
      "text/plain": [
       "['/Volumes/Transcend/pmc-subset/articles.I-N/J_Infect_Dis/J_Infect_Dis_2011_Apr_15_203(8)_1054-1062.nxml',\n",
       " '/Volumes/Transcend/pmc-subset/articles.I-N/J_Infect_Dis/J_Infect_Dis_2011_Apr_1_203(7)_898-909.nxml',\n",
       " '/Volumes/Transcend/pmc-subset/articles.I-N/J_Infect_Dis/J_Infect_Dis_2011_Aug_15_204(4)_574-581.nxml',\n",
       " '/Volumes/Transcend/pmc-subset/articles.I-N/J_Infect_Dis/J_Infect_Dis_2011_Aug_1_204(3)_358-362.nxml',\n",
       " '/Volumes/Transcend/pmc-subset/articles.I-N/J_Infect_Dis/J_Infect_Dis_2011_Aug_1_204(3)_451-458.nxml',\n",
       " '/Volumes/Transcend/pmc-subset/articles.I-N/J_Infect_Dis/J_Infect_Dis_2011_Aug_1_204(3)_488-489.nxml',\n",
       " '/Volumes/Transcend/pmc-subset/articles.I-N/J_Infect_Dis/J_Infect_Dis_2011_Feb_15_203(4)_452-463.nxml',\n",
       " '/Volumes/Transcend/pmc-subset/articles.I-N/J_Infect_Dis/J_Infect_Dis_2011_Feb_15_203(4)_464-472.nxml',\n",
       " '/Volumes/Transcend/pmc-subset/articles.I-N/J_Infect_Dis/J_Infect_Dis_2011_Feb_15_203(4)_556-560.nxml',\n",
       " '/Volumes/Transcend/pmc-subset/articles.I-N/J_Infect_Dis/J_Infect_Dis_2011_Feb_1_203(3)_406-417.nxml',\n",
       " '/Volumes/Transcend/pmc-subset/articles.I-N/J_Infect_Dis/J_Infect_Dis_2011_Feb_1_203(3)_418-429.nxml',\n",
       " '/Volumes/Transcend/pmc-subset/articles.I-N/J_Infect_Dis/J_Infect_Dis_2011_Jan_15_203(2)_149-157.nxml',\n",
       " '/Volumes/Transcend/pmc-subset/articles.I-N/J_Infect_Dis/J_Infect_Dis_2011_Jan_15_203(2)_175-179.nxml',\n",
       " '/Volumes/Transcend/pmc-subset/articles.I-N/J_Infect_Dis/J_Infect_Dis_2011_Jan_15_203(2)_207-210.nxml',\n",
       " '/Volumes/Transcend/pmc-subset/articles.I-N/J_Infect_Dis/J_Infect_Dis_2011_Jan_15_203(2)_258-262.nxml',\n",
       " '/Volumes/Transcend/pmc-subset/articles.I-N/J_Infect_Dis/J_Infect_Dis_2011_Jan_1_203(1)_32-39.nxml',\n",
       " '/Volumes/Transcend/pmc-subset/articles.I-N/J_Infect_Dis/J_Infect_Dis_2011_Jul_15_204(2)_237-244.nxml',\n",
       " '/Volumes/Transcend/pmc-subset/articles.I-N/J_Infect_Dis/J_Infect_Dis_2011_Jul_15_204(2)_268-273.nxml',\n",
       " '/Volumes/Transcend/pmc-subset/articles.I-N/J_Infect_Dis/J_Infect_Dis_2011_Jul_1_204(1)_36-43.nxml',\n",
       " '/Volumes/Transcend/pmc-subset/articles.I-N/J_Infect_Dis/J_Infect_Dis_2011_Jul_1_204(1)_9-18.nxml',\n",
       " '/Volumes/Transcend/pmc-subset/articles.I-N/J_Infect_Dis/J_Infect_Dis_2011_Jun_15_203(12)_1729-1738.nxml',\n",
       " '/Volumes/Transcend/pmc-subset/articles.I-N/J_Infect_Dis/J_Infect_Dis_2011_Jun_15_203(12)_1775-1783.nxml',\n",
       " '/Volumes/Transcend/pmc-subset/articles.I-N/J_Infect_Dis/J_Infect_Dis_2011_Mar_1_203(5)_691-699.nxml',\n",
       " '/Volumes/Transcend/pmc-subset/articles.I-N/J_Infect_Dis/J_Infect_Dis_2011_May_15_203(10)_1378-1387.nxml',\n",
       " '/Volumes/Transcend/pmc-subset/articles.I-N/J_Infect_Dis/J_Infect_Dis_2011_May_15_203(10)_1445-1453.nxml',\n",
       " '/Volumes/Transcend/pmc-subset/articles.I-N/J_Infect_Dis/J_Infect_Dis_2011_May_15_203(10)_1464-1473.nxml',\n",
       " '/Volumes/Transcend/pmc-subset/articles.I-N/J_Infect_Dis/J_Infect_Dis_2011_May_1_203(9)_1204-1214.nxml',\n",
       " '/Volumes/Transcend/pmc-subset/articles.I-N/J_Infect_Dis/J_Infect_Dis_2011_May_1_203(9)_1292-1300.nxml',\n",
       " '/Volumes/Transcend/pmc-subset/articles.I-N/J_Infect_Dis/J_Infect_Dis_2011_May_1_203(9)_1301-1308.nxml',\n",
       " '/Volumes/Transcend/pmc-subset/articles.I-N/J_Infect_Dis/J_Infect_Dis_2011_Nov_15_204(10)_1573-1584.nxml',\n",
       " '/Volumes/Transcend/pmc-subset/articles.I-N/J_Infect_Dis/J_Infect_Dis_2011_Nov_15_204(10)_1613-1619.nxml',\n",
       " '/Volumes/Transcend/pmc-subset/articles.I-N/J_Infect_Dis/J_Infect_Dis_2011_Nov_15_204(Suppl_4)_S1151-S1158.nxml',\n",
       " '/Volumes/Transcend/pmc-subset/articles.I-N/J_Infect_Dis/J_Infect_Dis_2011_Nov_15_204(Suppl_4)_S1159-S1167.nxml',\n",
       " '/Volumes/Transcend/pmc-subset/articles.I-N/J_Infect_Dis/J_Infect_Dis_2011_Nov_15_204(Suppl_4)_S1187-S1195.nxml',\n",
       " '/Volumes/Transcend/pmc-subset/articles.I-N/J_Infect_Dis/J_Infect_Dis_2011_Nov_1_204(9)_1321-1327.nxml',\n",
       " '/Volumes/Transcend/pmc-subset/articles.I-N/J_Infect_Dis/J_Infect_Dis_2011_Nov_1_204(9)_1463-1469.nxml',\n",
       " '/Volumes/Transcend/pmc-subset/articles.I-N/J_Infect_Dis/J_Infect_Dis_2011_Oct_15_204(8)_1237-1245.nxml',\n",
       " '/Volumes/Transcend/pmc-subset/articles.I-N/J_Infect_Dis/J_Infect_Dis_2011_Oct_1_204(7)_1046-1053.nxml',\n",
       " '/Volumes/Transcend/pmc-subset/articles.I-N/J_Infect_Dis/J_Infect_Dis_2011_Oct_1_204(7)_1075-1085.nxml',\n",
       " '/Volumes/Transcend/pmc-subset/articles.I-N/J_Infect_Dis/J_Infect_Dis_2011_Oct_1_204(7)_1104-1114.nxml',\n",
       " '/Volumes/Transcend/pmc-subset/articles.I-N/J_Infect_Dis/J_Infect_Dis_2011_Sep_15_204(6)_837-844.nxml',\n",
       " '/Volumes/Transcend/pmc-subset/articles.I-N/J_Infect_Dis/J_Infect_Dis_2011_Sep_15_204(6)_930-936.nxml',\n",
       " '/Volumes/Transcend/pmc-subset/articles.I-N/J_Infect_Dis/J_Infect_Dis_2011_Sep_15_204(6)_962-970.nxml',\n",
       " '/Volumes/Transcend/pmc-subset/articles.I-N/J_Infect_Dis/J_Infect_Dis_2011_Sep_1_204(5)_777-782.nxml',\n",
       " '/Volumes/Transcend/pmc-subset/articles.I-N/J_Infect_Dis/J_Infect_Dis_2012_Apr_15_205(8)_1278-1286.nxml',\n",
       " '/Volumes/Transcend/pmc-subset/articles.I-N/J_Infect_Dis/J_Infect_Dis_2012_Apr_15_205(8)_1311-1320.nxml',\n",
       " '/Volumes/Transcend/pmc-subset/articles.I-N/J_Infect_Dis/J_Infect_Dis_2012_Apr_1_205(7)_1035-1042.nxml',\n",
       " '/Volumes/Transcend/pmc-subset/articles.I-N/J_Infect_Dis/J_Infect_Dis_2012_Apr_1_205(7)_1147-1154.nxml',\n",
       " '/Volumes/Transcend/pmc-subset/articles.I-N/J_Infect_Dis/J_Infect_Dis_2012_Aug_15_206(4)_618-619.nxml',\n",
       " '/Volumes/Transcend/pmc-subset/articles.I-N/J_Infect_Dis/J_Infect_Dis_2012_Aug_15_206(4)_619-621.nxml',\n",
       " '/Volumes/Transcend/pmc-subset/articles.I-N/J_Infect_Dis/J_Infect_Dis_2012_Aug_1_206(3)_431-441.nxml',\n",
       " '/Volumes/Transcend/pmc-subset/articles.I-N/J_Infect_Dis/J_Infect_Dis_2012_Dec_15_206(Suppl_1)_S61-S67.nxml',\n",
       " '/Volumes/Transcend/pmc-subset/articles.I-N/J_Infect_Dis/J_Infect_Dis_2012_Dec_1_206(11)_1652-1659.nxml',\n",
       " '/Volumes/Transcend/pmc-subset/articles.I-N/J_Infect_Dis/J_Infect_Dis_2012_Feb_15_205(4)_680-683.nxml',\n",
       " '/Volumes/Transcend/pmc-subset/articles.I-N/J_Infect_Dis/J_Infect_Dis_2012_Feb_1_205(3)_412-421.nxml',\n",
       " '/Volumes/Transcend/pmc-subset/articles.I-N/J_Infect_Dis/J_Infect_Dis_2012_Feb_1_205(3)_431-444.nxml',\n",
       " '/Volumes/Transcend/pmc-subset/articles.I-N/J_Infect_Dis/J_Infect_Dis_2012_Jan_15_205(2)_297-304.nxml',\n",
       " '/Volumes/Transcend/pmc-subset/articles.I-N/J_Infect_Dis/J_Infect_Dis_2012_Jan_1_205(1)_106-110.nxml',\n",
       " '/Volumes/Transcend/pmc-subset/articles.I-N/J_Infect_Dis/J_Infect_Dis_2012_Jul_15_206(2)_148-157.nxml',\n",
       " '/Volumes/Transcend/pmc-subset/articles.I-N/J_Infect_Dis/J_Infect_Dis_2012_Jul_15_206(2)_220-228.nxml',\n",
       " '/Volumes/Transcend/pmc-subset/articles.I-N/J_Infect_Dis/J_Infect_Dis_2012_Jul_15_206(2)_229-237.nxml',\n",
       " '/Volumes/Transcend/pmc-subset/articles.I-N/J_Infect_Dis/J_Infect_Dis_2012_Jun_15_205(12)_1816-1820.nxml',\n",
       " '/Volumes/Transcend/pmc-subset/articles.I-N/J_Infect_Dis/J_Infect_Dis_2012_Jun_1_205(11)_1688-1696.nxml',\n",
       " '/Volumes/Transcend/pmc-subset/articles.I-N/J_Infect_Dis/J_Infect_Dis_2012_Mar_1_205(5)_772-781.nxml',\n",
       " '/Volumes/Transcend/pmc-subset/articles.I-N/J_Infect_Dis/J_Infect_Dis_2012_Mar_1_205(5)_798-806.nxml',\n",
       " '/Volumes/Transcend/pmc-subset/articles.I-N/J_Infect_Dis/J_Infect_Dis_2012_Mar_1_205(5)_841-852.nxml',\n",
       " '/Volumes/Transcend/pmc-subset/articles.I-N/J_Infect_Dis/J_Infect_Dis_2012_Mar_1_205(5)_853-863.nxml',\n",
       " '/Volumes/Transcend/pmc-subset/articles.I-N/J_Infect_Dis/J_Infect_Dis_2012_Mar_1_205(Suppl_1)_S120-S125.nxml',\n",
       " '/Volumes/Transcend/pmc-subset/articles.I-N/J_Infect_Dis/J_Infect_Dis_2012_Mar_1_205(Suppl_1)_S20-S27.nxml',\n",
       " '/Volumes/Transcend/pmc-subset/articles.I-N/J_Infect_Dis/J_Infect_Dis_2012_May_15_205(Suppl_2)_S347-S352.nxml',\n",
       " '/Volumes/Transcend/pmc-subset/articles.I-N/J_Infect_Dis/J_Infect_Dis_2012_May_1_205(9)_1408-1416.nxml',\n",
       " '/Volumes/Transcend/pmc-subset/articles.I-N/J_Infect_Dis/J_Infect_Dis_2012_Nov_15_206(10)_1532-1541.nxml',\n",
       " '/Volumes/Transcend/pmc-subset/articles.I-N/J_Infect_Dis/J_Infect_Dis_2012_Nov_15_206(10)_1589-1596.nxml',\n",
       " '/Volumes/Transcend/pmc-subset/articles.I-N/J_Infect_Dis/J_Infect_Dis_2012_Nov_15_206(10)_1612-1621.nxml',\n",
       " '/Volumes/Transcend/pmc-subset/articles.I-N/J_Infect_Dis/J_Infect_Dis_2012_Oct_15_206(8)_1178-1184.nxml',\n",
       " '/Volumes/Transcend/pmc-subset/articles.I-N/J_Infect_Dis/J_Infect_Dis_2012_Oct_1_206(7)_1020-1029.nxml',\n",
       " '/Volumes/Transcend/pmc-subset/articles.I-N/J_Infect_Dis/J_Infect_Dis_2012_Oct_1_206(7)_1138-1148.nxml',\n",
       " '/Volumes/Transcend/pmc-subset/articles.I-N/J_Infect_Dis/J_Infect_Dis_2012_Sep_1_206(5)_678-686.nxml',\n",
       " '/Volumes/Transcend/pmc-subset/articles.I-N/J_Infect_Dis/J_Infect_Dis_2013_Apr_1_207(7)_1148-1156.nxml',\n",
       " '/Volumes/Transcend/pmc-subset/articles.I-N/J_Infect_Dis/J_Infect_Dis_2013_Aug_15_208(4)_544-553.nxml',\n",
       " '/Volumes/Transcend/pmc-subset/articles.I-N/J_Infect_Dis/J_Infect_Dis_2013_Aug_15_208(4)_554-558.nxml',\n",
       " '/Volumes/Transcend/pmc-subset/articles.I-N/J_Infect_Dis/J_Infect_Dis_2013_Aug_15_208(4)_573-583.nxml',\n",
       " '/Volumes/Transcend/pmc-subset/articles.I-N/J_Infect_Dis/J_Infect_Dis_2013_Aug_15_208(4)_637-644.nxml',\n",
       " '/Volumes/Transcend/pmc-subset/articles.I-N/J_Infect_Dis/J_Infect_Dis_2013_Aug_15_208(4)_645-652.nxml',\n",
       " '/Volumes/Transcend/pmc-subset/articles.I-N/J_Infect_Dis/J_Infect_Dis_2013_Dec_15_208(12)_2007-2016.nxml',\n",
       " '/Volumes/Transcend/pmc-subset/articles.I-N/J_Infect_Dis/J_Infect_Dis_2013_Dec_15_208(12)_2017-2024.nxml',\n",
       " '/Volumes/Transcend/pmc-subset/articles.I-N/J_Infect_Dis/J_Infect_Dis_2013_Dec_15_208(12)_2046-2057.nxml',\n",
       " '/Volumes/Transcend/pmc-subset/articles.I-N/J_Infect_Dis/J_Infect_Dis_2013_Dec_1_208(11)_1906-1913.nxml',\n",
       " '/Volumes/Transcend/pmc-subset/articles.I-N/J_Infect_Dis/J_Infect_Dis_2013_Feb_15_207(4)_553-563.nxml',\n",
       " '/Volumes/Transcend/pmc-subset/articles.I-N/J_Infect_Dis/J_Infect_Dis_2013_Feb_15_207(4)_656-660.nxml',\n",
       " '/Volumes/Transcend/pmc-subset/articles.I-N/J_Infect_Dis/J_Infect_Dis_2013_Feb_1_207(3)_439-449.nxml',\n",
       " '/Volumes/Transcend/pmc-subset/articles.I-N/J_Infect_Dis/J_Infect_Dis_2013_Feb_1_207(3)_489-492.nxml',\n",
       " '/Volumes/Transcend/pmc-subset/articles.I-N/J_Infect_Dis/J_Infect_Dis_2013_Jan_15_207(2)_351-361.nxml',\n",
       " '/Volumes/Transcend/pmc-subset/articles.I-N/J_Infect_Dis/J_Infect_Dis_2013_Jan_15_207(2)_362-366.nxml',\n",
       " '/Volumes/Transcend/pmc-subset/articles.I-N/J_Infect_Dis/J_Infect_Dis_2013_Jan_15_207(2)_370-371.nxml',\n",
       " '/Volumes/Transcend/pmc-subset/articles.I-N/J_Infect_Dis/J_Infect_Dis_2013_Jul_15_208(2)_192-198.nxml',\n",
       " '/Volumes/Transcend/pmc-subset/articles.I-N/J_Infect_Dis/J_Infect_Dis_2013_Jul_15_208(2)_340-345.nxml',\n",
       " '/Volumes/Transcend/pmc-subset/articles.I-N/J_Infect_Dis/J_Infect_Dis_2013_Jul_15_208(2)_346-350.nxml',\n",
       " '/Volumes/Transcend/pmc-subset/articles.I-N/J_Infect_Dis/J_Infect_Dis_2013_Jul_1_208(1)_109-119.nxml',\n",
       " '/Volumes/Transcend/pmc-subset/articles.I-N/J_Infect_Dis/J_Infect_Dis_2013_Jul_1_208(1)_159-169.nxml',\n",
       " '/Volumes/Transcend/pmc-subset/articles.I-N/J_Infect_Dis/J_Infect_Dis_2013_Jun_15_207(12)_1817-1828.nxml',\n",
       " '/Volumes/Transcend/pmc-subset/articles.I-N/J_Infect_Dis/J_Infect_Dis_2013_Jun_15_207(12)_1878-1887.nxml',\n",
       " '/Volumes/Transcend/pmc-subset/articles.I-N/J_Infect_Dis/J_Infect_Dis_2013_Jun_1_207(11)_1655-1663.nxml',\n",
       " '/Volumes/Transcend/pmc-subset/articles.I-N/J_Infect_Dis/J_Infect_Dis_2013_Jun_1_207(11)_1753-1763.nxml',\n",
       " '/Volumes/Transcend/pmc-subset/articles.I-N/J_Infect_Dis/J_Infect_Dis_2013_Mar_1_207(5)_740-748.nxml',\n",
       " '/Volumes/Transcend/pmc-subset/articles.I-N/J_Infect_Dis/J_Infect_Dis_2013_Mar_1_207(5)_842-847.nxml',\n",
       " '/Volumes/Transcend/pmc-subset/articles.I-N/J_Infect_Dis/J_Infect_Dis_2013_May_1_207(9)_1442-1450.nxml',\n",
       " '/Volumes/Transcend/pmc-subset/articles.I-N/J_Infect_Dis/J_Infect_Dis_2013_Nov_1_208(9)_1391-1396.nxml',\n",
       " '/Volumes/Transcend/pmc-subset/articles.I-N/J_Infect_Dis/J_Infect_Dis_2013_Nov_1_208(9)_1397-1403.nxml',\n",
       " '/Volumes/Transcend/pmc-subset/articles.I-N/J_Infect_Dis/J_Infect_Dis_2013_Nov_1_208(9)_1459-1463.nxml',\n",
       " '/Volumes/Transcend/pmc-subset/articles.I-N/J_Infect_Dis/J_Infect_Dis_2013_Nov_1_208(9)_1494-1503.nxml',\n",
       " '/Volumes/Transcend/pmc-subset/articles.I-N/J_Infect_Dis/J_Infect_Dis_2013_Sep_15_208(6)_1008-1019.nxml',\n",
       " '/Volumes/Transcend/pmc-subset/articles.I-N/J_Infect_Dis/J_Infect_Dis_2013_Sep_15_208(6)_952-968.nxml',\n",
       " '/Volumes/Transcend/pmc-subset/articles.I-N/J_Infect_Dis/J_Infect_Dis_2013_Sep_1_208(5)_801-812.nxml',\n",
       " '/Volumes/Transcend/pmc-subset/articles.I-N/J_Infect_Dis/J_Infect_Dis_2014_Apr_15_209(8)_1259-1268.nxml',\n",
       " '/Volumes/Transcend/pmc-subset/articles.I-N/J_Infect_Dis/J_Infect_Dis_2014_Apr_1_209(7)_1126-1135.nxml',\n",
       " '/Volumes/Transcend/pmc-subset/articles.I-N/J_Infect_Dis/J_Infect_Dis_2014_Aug_15_210(4)_517-534.nxml',\n",
       " '/Volumes/Transcend/pmc-subset/articles.I-N/J_Infect_Dis/J_Infect_Dis_2014_Aug_15_210(4)_545-557.nxml',\n",
       " '/Volumes/Transcend/pmc-subset/articles.I-N/J_Infect_Dis/J_Infect_Dis_2014_Aug_15_210(4)_611-618.nxml',\n",
       " '/Volumes/Transcend/pmc-subset/articles.I-N/J_Infect_Dis/J_Infect_Dis_2014_Aug_15_210(4)_656-666.nxml',\n",
       " '/Volumes/Transcend/pmc-subset/articles.I-N/J_Infect_Dis/J_Infect_Dis_2014_Aug_1_210(3)_354-362.nxml',\n",
       " '/Volumes/Transcend/pmc-subset/articles.I-N/J_Infect_Dis/J_Infect_Dis_2014_Aug_1_210(3)_363-373.nxml',\n",
       " '/Volumes/Transcend/pmc-subset/articles.I-N/J_Infect_Dis/J_Infect_Dis_2014_Aug_1_210(3)_435-440.nxml',\n",
       " '/Volumes/Transcend/pmc-subset/articles.I-N/J_Infect_Dis/J_Infect_Dis_2014_Aug_1_210(3)_473-482.nxml',\n",
       " '/Volumes/Transcend/pmc-subset/articles.I-N/J_Infect_Dis/J_Infect_Dis_2014_Dec_15_210(12)_1928-1937.nxml',\n",
       " '/Volumes/Transcend/pmc-subset/articles.I-N/J_Infect_Dis/J_Infect_Dis_2014_Dec_15_210(12)_1981-1990.nxml',\n",
       " '/Volumes/Transcend/pmc-subset/articles.I-N/J_Infect_Dis/J_Infect_Dis_2014_Dec_15_210(12)_1991-2000.nxml',\n",
       " '/Volumes/Transcend/pmc-subset/articles.I-N/J_Infect_Dis/J_Infect_Dis_2014_Dec_15_210(12)_2001-2008.nxml',\n",
       " '/Volumes/Transcend/pmc-subset/articles.I-N/J_Infect_Dis/J_Infect_Dis_2014_Dec_15_210(12)_2009-2016.nxml',\n",
       " '/Volumes/Transcend/pmc-subset/articles.I-N/J_Infect_Dis/J_Infect_Dis_2014_Dec_15_210(12)_2018-2019.nxml',\n",
       " '/Volumes/Transcend/pmc-subset/articles.I-N/J_Infect_Dis/J_Infect_Dis_2014_Dec_1_210(11)_1700-1710.nxml',\n",
       " '/Volumes/Transcend/pmc-subset/articles.I-N/J_Infect_Dis/J_Infect_Dis_2014_Dec_1_210(11)_1800-1810.nxml',\n",
       " '/Volumes/Transcend/pmc-subset/articles.I-N/J_Infect_Dis/J_Infect_Dis_2014_Dec_1_210(Suppl_2)_S547-S548.nxml',\n",
       " '/Volumes/Transcend/pmc-subset/articles.I-N/J_Infect_Dis/J_Infect_Dis_2014_Dec_1_210(Suppl_2)_S549-S555.nxml',\n",
       " '/Volumes/Transcend/pmc-subset/articles.I-N/J_Infect_Dis/J_Infect_Dis_2014_Dec_1_210(Suppl_2)_S556-S561.nxml',\n",
       " '/Volumes/Transcend/pmc-subset/articles.I-N/J_Infect_Dis/J_Infect_Dis_2014_Dec_1_210(Suppl_2)_S562-S568.nxml',\n",
       " '/Volumes/Transcend/pmc-subset/articles.I-N/J_Infect_Dis/J_Infect_Dis_2014_Dec_1_210(Suppl_2)_S569-S578.nxml',\n",
       " '/Volumes/Transcend/pmc-subset/articles.I-N/J_Infect_Dis/J_Infect_Dis_2014_Dec_1_210(Suppl_2)_S579-S585.nxml',\n",
       " '/Volumes/Transcend/pmc-subset/articles.I-N/J_Infect_Dis/J_Infect_Dis_2014_Dec_1_210(Suppl_2)_S586-S593.nxml',\n",
       " '/Volumes/Transcend/pmc-subset/articles.I-N/J_Infect_Dis/J_Infect_Dis_2014_Dec_1_210(Suppl_2)_S594-S599.nxml',\n",
       " '/Volumes/Transcend/pmc-subset/articles.I-N/J_Infect_Dis/J_Infect_Dis_2014_Dec_1_210(Suppl_2)_S600-S604.nxml',\n",
       " '/Volumes/Transcend/pmc-subset/articles.I-N/J_Infect_Dis/J_Infect_Dis_2014_Feb_15_209(4)_491-499.nxml',\n",
       " '/Volumes/Transcend/pmc-subset/articles.I-N/J_Infect_Dis/J_Infect_Dis_2014_Feb_15_209(4)_500-509.nxml',\n",
       " '/Volumes/Transcend/pmc-subset/articles.I-N/J_Infect_Dis/J_Infect_Dis_2014_Feb_15_209(4)_562-570.nxml',\n",
       " '/Volumes/Transcend/pmc-subset/articles.I-N/J_Infect_Dis/J_Infect_Dis_2014_Feb_15_209(4)_600-609.nxml',\n",
       " '/Volumes/Transcend/pmc-subset/articles.I-N/J_Infect_Dis/J_Infect_Dis_2014_Feb_15_209(4)_610-615.nxml',\n",
       " '/Volumes/Transcend/pmc-subset/articles.I-N/J_Infect_Dis/J_Infect_Dis_2014_Feb_1_209(3)_377-388.nxml',\n",
       " '/Volumes/Transcend/pmc-subset/articles.I-N/J_Infect_Dis/J_Infect_Dis_2014_Feb_1_209(3)_431-440.nxml',\n",
       " '/Volumes/Transcend/pmc-subset/articles.I-N/J_Infect_Dis/J_Infect_Dis_2014_Jan_15_209(2)_180-182.nxml',\n",
       " '/Volumes/Transcend/pmc-subset/articles.I-N/J_Infect_Dis/J_Infect_Dis_2014_Jan_15_209(2)_270-274.nxml',\n",
       " '/Volumes/Transcend/pmc-subset/articles.I-N/J_Infect_Dis/J_Infect_Dis_2014_Jan_1_209(1)_120-129.nxml',\n",
       " '/Volumes/Transcend/pmc-subset/articles.I-N/J_Infect_Dis/J_Infect_Dis_2014_Jan_1_209(1)_74-82.nxml',\n",
       " '/Volumes/Transcend/pmc-subset/articles.I-N/J_Infect_Dis/J_Infect_Dis_2014_Jan_1_209(1)_83-86.nxml',\n",
       " '/Volumes/Transcend/pmc-subset/articles.I-N/J_Infect_Dis/J_Infect_Dis_2014_Jul_15_209(Suppl_3)_S120-S126.nxml',\n",
       " '/Volumes/Transcend/pmc-subset/articles.I-N/J_Infect_Dis/J_Infect_Dis_2014_Jul_15_210(2)_200-208.nxml',\n",
       " '/Volumes/Transcend/pmc-subset/articles.I-N/J_Infect_Dis/J_Infect_Dis_2014_Jul_15_210(2)_306-310.nxml',\n",
       " '/Volumes/Transcend/pmc-subset/articles.I-N/J_Infect_Dis/J_Infect_Dis_2014_Jul_1_210(1)_161-163.nxml',\n",
       " '/Volumes/Transcend/pmc-subset/articles.I-N/J_Infect_Dis/J_Infect_Dis_2014_Jul_1_210(1)_4-13.nxml',\n",
       " '/Volumes/Transcend/pmc-subset/articles.I-N/J_Infect_Dis/J_Infect_Dis_2014_Jul_1_210(1)_56-64.nxml',\n",
       " '/Volumes/Transcend/pmc-subset/articles.I-N/J_Infect_Dis/J_Infect_Dis_2014_Jun_15_209(12)_1873-1881.nxml',\n",
       " '/Volumes/Transcend/pmc-subset/articles.I-N/J_Infect_Dis/J_Infect_Dis_2014_Jun_15_209(Suppl_2)_S66-S70.nxml',\n",
       " '/Volumes/Transcend/pmc-subset/articles.I-N/J_Infect_Dis/J_Infect_Dis_2014_Jun_1_209(11)_1685-1692.nxml',\n",
       " '/Volumes/Transcend/pmc-subset/articles.I-N/J_Infect_Dis/J_Infect_Dis_2014_Jun_1_209(11)_1731-1738.nxml',\n",
       " '/Volumes/Transcend/pmc-subset/articles.I-N/J_Infect_Dis/J_Infect_Dis_2014_Jun_1_209(11)_1792-1800.nxml',\n",
       " '/Volumes/Transcend/pmc-subset/articles.I-N/J_Infect_Dis/J_Infect_Dis_2014_Jun_1_209(11)_1808-1815.nxml',\n",
       " '/Volumes/Transcend/pmc-subset/articles.I-N/J_Infect_Dis/J_Infect_Dis_2014_Jun_1_209(11)_1816-1826.nxml',\n",
       " '/Volumes/Transcend/pmc-subset/articles.I-N/J_Infect_Dis/J_Infect_Dis_2014_Mar_1_209(5)_652-657.nxml',\n",
       " '/Volumes/Transcend/pmc-subset/articles.I-N/J_Infect_Dis/J_Infect_Dis_2014_Mar_1_209(5)_711-720.nxml',\n",
       " '/Volumes/Transcend/pmc-subset/articles.I-N/J_Infect_Dis/J_Infect_Dis_2014_Mar_1_209(5)_749-753.nxml',\n",
       " '/Volumes/Transcend/pmc-subset/articles.I-N/J_Infect_Dis/J_Infect_Dis_2014_May_1_209(9)_1382-1392.nxml',\n",
       " '/Volumes/Transcend/pmc-subset/articles.I-N/J_Infect_Dis/J_Infect_Dis_2014_May_1_209(9)_1446-1451.nxml',\n",
       " '/Volumes/Transcend/pmc-subset/articles.I-N/J_Infect_Dis/J_Infect_Dis_2014_May_1_209(9)_1469-1478.nxml',\n",
       " '/Volumes/Transcend/pmc-subset/articles.I-N/J_Infect_Dis/J_Infect_Dis_2014_Nov_15_210(10)_1605-1615.nxml',\n",
       " '/Volumes/Transcend/pmc-subset/articles.I-N/J_Infect_Dis/J_Infect_Dis_2014_Nov_1_210(9)_1419-1430.nxml',\n",
       " '/Volumes/Transcend/pmc-subset/articles.I-N/J_Infect_Dis/J_Infect_Dis_2014_Nov_1_210(9)_1431-1434.nxml',\n",
       " '/Volumes/Transcend/pmc-subset/articles.I-N/J_Infect_Dis/J_Infect_Dis_2014_Nov_1_210(9)_1487-1498.nxml',\n",
       " '/Volumes/Transcend/pmc-subset/articles.I-N/J_Infect_Dis/J_Infect_Dis_2014_Nov_1_210(Suppl_1)_S439-S446.nxml',\n",
       " '/Volumes/Transcend/pmc-subset/articles.I-N/J_Infect_Dis/J_Infect_Dis_2014_Nov_1_210(Suppl_1)_S504-S513.nxml',\n",
       " '/Volumes/Transcend/pmc-subset/articles.I-N/J_Infect_Dis/J_Infect_Dis_2014_Oct_15_210(8)_1198-1206.nxml',\n",
       " '/Volumes/Transcend/pmc-subset/articles.I-N/J_Infect_Dis/J_Infect_Dis_2014_Oct_15_210(8)_1217-1227.nxml',\n",
       " '/Volumes/Transcend/pmc-subset/articles.I-N/J_Infect_Dis/J_Infect_Dis_2014_Oct_15_210(8)_1260-1269.nxml',\n",
       " '/Volumes/Transcend/pmc-subset/articles.I-N/J_Infect_Dis/J_Infect_Dis_2014_Oct_1_210(7)_1029-1041.nxml',\n",
       " '/Volumes/Transcend/pmc-subset/articles.I-N/J_Infect_Dis/J_Infect_Dis_2014_Sep_15_210(6)_837-845.nxml',\n",
       " '/Volumes/Transcend/pmc-subset/articles.I-N/J_Infect_Dis/J_Infect_Dis_2014_Sep_15_210(6)_853-864.nxml',\n",
       " '/Volumes/Transcend/pmc-subset/articles.I-N/J_Infect_Dis/J_Infect_Dis_2014_Sep_15_210(6)_932-941.nxml',\n",
       " '/Volumes/Transcend/pmc-subset/articles.I-N/J_Infect_Dis/J_Infect_Dis_2014_Sep_15_210(6)_954-963.nxml',\n",
       " '/Volumes/Transcend/pmc-subset/articles.I-N/J_Infect_Dis/J_Infect_Dis_2014_Sep_1_210(5)_752-761.nxml',\n",
       " '/Volumes/Transcend/pmc-subset/articles.I-N/J_Infect_Dis/J_Infect_Dis_2014_Sep_1_210(5)_774-783.nxml',\n",
       " '/Volumes/Transcend/pmc-subset/articles.I-N/J_Infect_Dis/J_Infect_Dis_2015_Apr_15_211(8)_1202-1204.nxml',\n",
       " '/Volumes/Transcend/pmc-subset/articles.I-N/J_Infect_Dis/J_Infect_Dis_2015_Apr_15_211(8)_1279-1287.nxml',\n",
       " '/Volumes/Transcend/pmc-subset/articles.I-N/J_Infect_Dis/J_Infect_Dis_2015_Apr_15_211(8)_1357-1359.nxml',\n",
       " '/Volumes/Transcend/pmc-subset/articles.I-N/J_Infect_Dis/J_Infect_Dis_2015_Apr_1_211(7)_1076-1086.nxml',\n",
       " '/Volumes/Transcend/pmc-subset/articles.I-N/J_Infect_Dis/J_Infect_Dis_2015_Apr_1_211(7)_1097-1103.nxml',\n",
       " '/Volumes/Transcend/pmc-subset/articles.I-N/J_Infect_Dis/J_Infect_Dis_2015_Apr_1_211(7)_1128-1133.nxml',\n",
       " '/Volumes/Transcend/pmc-subset/articles.I-N/J_Infect_Dis/J_Infect_Dis_2015_Apr_1_211(7)_1154-1163.nxml',\n",
       " '/Volumes/Transcend/pmc-subset/articles.I-N/J_Infect_Dis/J_Infect_Dis_2015_Aug_15_212(4)_509-512.nxml',\n",
       " '/Volumes/Transcend/pmc-subset/articles.I-N/J_Infect_Dis/J_Infect_Dis_2015_Aug_15_212(4)_531-541.nxml',\n",
       " '/Volumes/Transcend/pmc-subset/articles.I-N/J_Infect_Dis/J_Infect_Dis_2015_Aug_15_212(4)_570-577.nxml',\n",
       " '/Volumes/Transcend/pmc-subset/articles.I-N/J_Infect_Dis/J_Infect_Dis_2015_Aug_15_212(4)_617-625.nxml',\n",
       " '/Volumes/Transcend/pmc-subset/articles.I-N/J_Infect_Dis/J_Infect_Dis_2015_Aug_15_212(4)_626-634.nxml',\n",
       " '/Volumes/Transcend/pmc-subset/articles.I-N/J_Infect_Dis/J_Infect_Dis_2015_Dec_1_212(11)_1701-1710.nxml',\n",
       " '/Volumes/Transcend/pmc-subset/articles.I-N/J_Infect_Dis/J_Infect_Dis_2015_Dec_1_212(11)_1711-1718.nxml',\n",
       " '/Volumes/Transcend/pmc-subset/articles.I-N/J_Infect_Dis/J_Infect_Dis_2015_Dec_1_212(11)_1752-1758.nxml',\n",
       " '/Volumes/Transcend/pmc-subset/articles.I-N/J_Infect_Dis/J_Infect_Dis_2015_Dec_1_212(11)_1778-1786.nxml',\n",
       " '/Volumes/Transcend/pmc-subset/articles.I-N/J_Infect_Dis/J_Infect_Dis_2015_Dec_1_212(11)_1787-1797.nxml',\n",
       " '/Volumes/Transcend/pmc-subset/articles.I-N/J_Infect_Dis/J_Infect_Dis_2015_Feb_15_211(4)_623-634.nxml',\n",
       " '/Volumes/Transcend/pmc-subset/articles.I-N/J_Infect_Dis/J_Infect_Dis_2015_Feb_15_211(4)_664-665.nxml',\n",
       " '/Volumes/Transcend/pmc-subset/articles.I-N/J_Infect_Dis/J_Infect_Dis_2015_Feb_1_211(3)_497-498.nxml',\n",
       " '/Volumes/Transcend/pmc-subset/articles.I-N/J_Infect_Dis/J_Infect_Dis_2015_Jan_15_211(2)_169-171.nxml',\n",
       " '/Volumes/Transcend/pmc-subset/articles.I-N/J_Infect_Dis/J_Infect_Dis_2015_Jan_15_211(2)_317-321.nxml',\n",
       " '/Volumes/Transcend/pmc-subset/articles.I-N/J_Infect_Dis/J_Infect_Dis_2015_Jan_15_211(2)_331-332.nxml',\n",
       " '/Volumes/Transcend/pmc-subset/articles.I-N/J_Infect_Dis/J_Infect_Dis_2015_Jan_1_211(1)_10-18.nxml',\n",
       " '/Volumes/Transcend/pmc-subset/articles.I-N/J_Infect_Dis/J_Infect_Dis_2015_Jan_1_211(1)_80-90.nxml',\n",
       " '/Volumes/Transcend/pmc-subset/articles.I-N/J_Infect_Dis/J_Infect_Dis_2015_Jul_15_212(2)_275-284.nxml',\n",
       " '/Volumes/Transcend/pmc-subset/articles.I-N/J_Infect_Dis/J_Infect_Dis_2015_Jul_1_212(1)_5-7.nxml',\n",
       " '/Volumes/Transcend/pmc-subset/articles.I-N/J_Infect_Dis/J_Infect_Dis_2015_Jul_1_212(1)_95-105.nxml',\n",
       " '/Volumes/Transcend/pmc-subset/articles.I-N/J_Infect_Dis/J_Infect_Dis_2015_Jun_15_211(12)_1925-1935.nxml',\n",
       " '/Volumes/Transcend/pmc-subset/articles.I-N/J_Infect_Dis/J_Infect_Dis_2015_Jun_15_211(12)_1936-1942.nxml',\n",
       " '/Volumes/Transcend/pmc-subset/articles.I-N/J_Infect_Dis/J_Infect_Dis_2015_Jun_15_211(12)_1977-1986.nxml',\n",
       " '/Volumes/Transcend/pmc-subset/articles.I-N/J_Infect_Dis/J_Infect_Dis_2015_Jun_1_211(11)_1757-1760.nxml',\n",
       " '/Volumes/Transcend/pmc-subset/articles.I-N/J_Infect_Dis/J_Infect_Dis_2015_Jun_1_211(11)_1813-1821.nxml',\n",
       " '/Volumes/Transcend/pmc-subset/articles.I-N/J_Infect_Dis/J_Infect_Dis_2015_Mar_15_211(6)_856-858.nxml',\n",
       " '/Volumes/Transcend/pmc-subset/articles.I-N/J_Infect_Dis/J_Infect_Dis_2015_Mar_15_211(6)_956-967.nxml',\n",
       " '/Volumes/Transcend/pmc-subset/articles.I-N/J_Infect_Dis/J_Infect_Dis_2015_Mar_15_211(Suppl_1)_S1-S20.nxml',\n",
       " '/Volumes/Transcend/pmc-subset/articles.I-N/J_Infect_Dis/J_Infect_Dis_2015_Mar_1_211(5)_801-810.nxml',\n",
       " '/Volumes/Transcend/pmc-subset/articles.I-N/J_Infect_Dis/J_Infect_Dis_2015_Mar_1_211(5)_846-847.nxml',\n",
       " '/Volumes/Transcend/pmc-subset/articles.I-N/J_Infect_Dis/J_Infect_Dis_2015_May_15_211(10)_1517-1518.nxml',\n",
       " '/Volumes/Transcend/pmc-subset/articles.I-N/J_Infect_Dis/J_Infect_Dis_2015_May_15_211(10)_1529-1540.nxml',\n",
       " '/Volumes/Transcend/pmc-subset/articles.I-N/J_Infect_Dis/J_Infect_Dis_2015_May_15_211(10)_1541-1549.nxml',\n",
       " '/Volumes/Transcend/pmc-subset/articles.I-N/J_Infect_Dis/J_Infect_Dis_2015_May_15_211(10)_1597-1606.nxml',\n",
       " '/Volumes/Transcend/pmc-subset/articles.I-N/J_Infect_Dis/J_Infect_Dis_2015_May_15_211(10)_1687.nxml',\n",
       " '/Volumes/Transcend/pmc-subset/articles.I-N/J_Infect_Dis/J_Infect_Dis_2015_May_1_211(9)_1499-1509.nxml',\n",
       " '/Volumes/Transcend/pmc-subset/articles.I-N/J_Infect_Dis/J_Infect_Dis_2015_May_1_211(9)_1510a.nxml',\n",
       " '/Volumes/Transcend/pmc-subset/articles.I-N/J_Infect_Dis/J_Infect_Dis_2015_May_1_211(9)_1510b-1511.nxml',\n",
       " '/Volumes/Transcend/pmc-subset/articles.I-N/J_Infect_Dis/J_Infect_Dis_2015_Nov_15_212(10)_1525-1528.nxml',\n",
       " '/Volumes/Transcend/pmc-subset/articles.I-N/J_Infect_Dis/J_Infect_Dis_2015_Nov_15_212(10)_1563-1573.nxml',\n",
       " '/Volumes/Transcend/pmc-subset/articles.I-N/J_Infect_Dis/J_Infect_Dis_2015_Nov_15_212(10)_1636-1645.nxml',\n",
       " '/Volumes/Transcend/pmc-subset/articles.I-N/J_Infect_Dis/J_Infect_Dis_2015_Oct_15_212(8)_1182-1190.nxml',\n",
       " '/Volumes/Transcend/pmc-subset/articles.I-N/J_Infect_Dis/J_Infect_Dis_2015_Oct_15_212(8)_1279-1287.nxml',\n",
       " '/Volumes/Transcend/pmc-subset/articles.I-N/J_Infect_Dis/J_Infect_Dis_2015_Oct_15_212(8)_1298-1307.nxml',\n",
       " '/Volumes/Transcend/pmc-subset/articles.I-N/J_Infect_Dis/J_Infect_Dis_2015_Oct_15_212(8)_1342-1343.nxml',\n",
       " '/Volumes/Transcend/pmc-subset/articles.I-N/J_Infect_Dis/J_Infect_Dis_2015_Oct_1_212(7)_1120-1128.nxml',\n",
       " '/Volumes/Transcend/pmc-subset/articles.I-N/J_Infect_Dis/J_Infect_Dis_2015_Oct_1_212(7)_1129-1139.nxml',\n",
       " '/Volumes/Transcend/pmc-subset/articles.I-N/J_Infect_Dis/J_Infect_Dis_2015_Oct_1_212(Suppl_2)_S172-S180.nxml',\n",
       " '/Volumes/Transcend/pmc-subset/articles.I-N/J_Infect_Dis/J_Infect_Dis_2015_Oct_1_212(Suppl_2)_S210-S218.nxml',\n",
       " '/Volumes/Transcend/pmc-subset/articles.I-N/J_Infect_Dis/J_Infect_Dis_2015_Oct_1_212(Suppl_2)_S247-S257.nxml',\n",
       " '/Volumes/Transcend/pmc-subset/articles.I-N/J_Infect_Dis/J_Infect_Dis_2015_Oct_1_212(Suppl_2)_S98-S100.nxml',\n",
       " '/Volumes/Transcend/pmc-subset/articles.I-N/J_Infect_Dis/J_Infect_Dis_2015_Sep_1_212(5)_769-778.nxml',\n",
       " '/Volumes/Transcend/pmc-subset/articles.I-N/J_Infect_Dis/J_Infect_Dis_2016_Apr_15_213(8)_1248-1252.nxml',\n",
       " '/Volumes/Transcend/pmc-subset/articles.I-N/J_Infect_Dis/J_Infect_Dis_2016_Apr_15_213(8)_1253-1261.nxml',\n",
       " '/Volumes/Transcend/pmc-subset/articles.I-N/J_Infect_Dis/J_Infect_Dis_2016_Apr_15_213(8)_1271-1279.nxml',\n",
       " '/Volumes/Transcend/pmc-subset/articles.I-N/J_Infect_Dis/J_Infect_Dis_2016_Apr_15_213(8)_1322-1329.nxml',\n",
       " '/Volumes/Transcend/pmc-subset/articles.I-N/J_Infect_Dis/J_Infect_Dis_2016_Apr_15_213(8)_1355-1356.nxml',\n",
       " '/Volumes/Transcend/pmc-subset/articles.I-N/J_Infect_Dis/J_Infect_Dis_2016_Apr_1_213(7)_1055-1056.nxml',\n",
       " '/Volumes/Transcend/pmc-subset/articles.I-N/J_Infect_Dis/J_Infect_Dis_2016_Apr_1_213(7)_1124-1133.nxml',\n",
       " '/Volumes/Transcend/pmc-subset/articles.I-N/J_Infect_Dis/J_Infect_Dis_2016_Apr_1_213(7)_1173-1179.nxml',\n",
       " '/Volumes/Transcend/pmc-subset/articles.I-N/J_Infect_Dis/J_Infect_Dis_2016_Feb_15_213(4)_604-610.nxml',\n",
       " '/Volumes/Transcend/pmc-subset/articles.I-N/J_Infect_Dis/J_Infect_Dis_2016_Feb_1_213(3)_329-331.nxml',\n",
       " '/Volumes/Transcend/pmc-subset/articles.I-N/J_Infect_Dis/J_Infect_Dis_2016_Feb_1_213(3)_485-495.nxml',\n",
       " '/Volumes/Transcend/pmc-subset/articles.I-N/J_Infect_Dis/J_Infect_Dis_2016_Feb_1_213(Suppl_1)_S27-S31.nxml',\n",
       " '/Volumes/Transcend/pmc-subset/articles.I-N/J_Infect_Dis/J_Infect_Dis_2016_Jan_15_213(2)_169-170.nxml',\n",
       " '/Volumes/Transcend/pmc-subset/articles.I-N/J_Infect_Dis/J_Infect_Dis_2016_Jan_15_213(2)_206-215.nxml',\n",
       " '/Volumes/Transcend/pmc-subset/articles.I-N/J_Infect_Dis/J_Infect_Dis_2016_Jan_15_213(2)_266-275.nxml',\n",
       " '/Volumes/Transcend/pmc-subset/articles.I-N/J_Infect_Dis/J_Infect_Dis_2016_Jan_1_213(1)_100-104.nxml',\n",
       " '/Volumes/Transcend/pmc-subset/articles.I-N/J_Infect_Dis/J_Infect_Dis_2016_Jan_1_213(1)_3-5.nxml',\n",
       " '/Volumes/Transcend/pmc-subset/articles.I-N/J_Infect_Dis/J_Infect_Dis_2016_Jan_1_213(1)_31-38.nxml',\n",
       " '/Volumes/Transcend/pmc-subset/articles.I-N/J_Infect_Dis/J_Infect_Dis_2016_Jan_1_213(1)_6-13.nxml',\n",
       " '/Volumes/Transcend/pmc-subset/articles.I-N/J_Infect_Dis/J_Infect_Dis_2016_Jan_1_213(1)_61-70.nxml',\n",
       " '/Volumes/Transcend/pmc-subset/articles.I-N/J_Infect_Dis/J_Infect_Dis_2016_Mar_15_213(6)_880-882.nxml',\n",
       " '/Volumes/Transcend/pmc-subset/articles.I-N/J_Infect_Dis/J_Infect_Dis_2016_Mar_15_213(6)_934-938.nxml',\n",
       " '/Volumes/Transcend/pmc-subset/articles.I-N/J_Infect_Dis/J_Infect_Dis_2016_Mar_1_213(5)_731-737.nxml',\n",
       " '/Volumes/Transcend/pmc-subset/articles.I-N/J_Infect_Dis/J_Infect_Dis_2016_Mar_1_213(5)_784-787.nxml',\n",
       " '/Volumes/Transcend/pmc-subset/articles.I-N/J_Infect_Dis/J_Infect_Dis_2016_Mar_1_213(5)_788-793.nxml',\n",
       " '/Volumes/Transcend/pmc-subset/articles.I-N/J_Infect_Dis/J_Infect_Dis_2016_Mar_1_213(5)_794-799.nxml',\n",
       " '/Volumes/Transcend/pmc-subset/articles.I-N/J_Infect_Dis/J_Infect_Dis_2016_Mar_1_213(5)_824-830.nxml',\n",
       " '/Volumes/Transcend/pmc-subset/articles.I-N/J_Infect_Dis/J_Infect_Dis_2016_May_1_213(9)_1410-1418.nxml',\n",
       " '/Volumes/Transcend/pmc-subset/articles.I-N/J_Infect_Dis/J_Infect_Dis_2016_May_1_213(9)_1466-1471.nxml',\n",
       " '/Volumes/Transcend/pmc-subset/articles.I-N/J_Infect_Dis/J_Infect_Dis_2016_May_1_213(Suppl_3)_S101-S107.nxml',\n",
       " '/Volumes/Transcend/pmc-subset/articles.I-N/J_Infect_Dis/J_Infect_Dis_2016_May_1_213(Suppl_3)_S108-S115.nxml',\n",
       " '/Volumes/Transcend/pmc-subset/articles.I-N/J_Infect_Dis/J_Infect_Dis_2016_May_1_213(Suppl_3)_S116-S123.nxml',\n",
       " '/Volumes/Transcend/pmc-subset/articles.I-N/J_Infect_Dis/J_Infect_Dis_2016_May_1_213(Suppl_3)_S124-S130.nxml',\n",
       " '/Volumes/Transcend/pmc-subset/articles.I-N/J_Infect_Dis/J_Infect_Dis_2016_May_1_213(Suppl_3)_S131-S135.nxml',\n",
       " '/Volumes/Transcend/pmc-subset/articles.I-N/J_Infect_Dis/J_Infect_Dis_2016_May_1_213(Suppl_3)_S136-S139.nxml',\n",
       " '/Volumes/Transcend/pmc-subset/articles.I-N/J_Infect_Dis/J_Infect_Dis_2016_May_1_213(Suppl_3)_S140-S146.nxml',\n",
       " '/Volumes/Transcend/pmc-subset/articles.I-N/J_Infect_Dis/J_Infect_Dis_2016_May_1_213(Suppl_3)_S147-S150.nxml',\n",
       " '/Volumes/Transcend/pmc-subset/articles.I-N/J_Infect_Dis/J_Infect_Dis_2016_May_1_213(Suppl_3)_S65-S66.nxml',\n",
       " '/Volumes/Transcend/pmc-subset/articles.I-N/J_Infect_Dis/J_Infect_Dis_2016_May_1_213(Suppl_3)_S67-S72.nxml',\n",
       " '/Volumes/Transcend/pmc-subset/articles.I-N/J_Infect_Dis/J_Infect_Dis_2016_May_1_213(Suppl_3)_S73-S78.nxml',\n",
       " '/Volumes/Transcend/pmc-subset/articles.I-N/J_Infect_Dis/J_Infect_Dis_2016_May_1_213(Suppl_3)_S79-S85.nxml',\n",
       " '/Volumes/Transcend/pmc-subset/articles.I-N/J_Infect_Dis/J_Infect_Dis_2016_May_1_213(Suppl_3)_S86-S90.nxml',\n",
       " '/Volumes/Transcend/pmc-subset/articles.I-N/J_Infect_Dis/J_Infect_Dis_2016_May_1_213(Suppl_3)_S91-S95.nxml',\n",
       " '/Volumes/Transcend/pmc-subset/articles.I-N/J_Infect_Dis/J_Infect_Dis_2016_May_1_213(Suppl_3)_S96-S100.nxml']"
      ]
     },
     "execution_count": 103,
     "metadata": {},
     "output_type": "execute_result"
    }
   ],
   "source": [
    "article_paths"
   ]
  },
  {
   "cell_type": "code",
   "execution_count": 108,
   "metadata": {
    "collapsed": false
   },
   "outputs": [],
   "source": [
    "articles.drop()\n",
    "for path in article_paths:\n",
    "    article = get_article(path)\n",
    "    articles.insert_one(article)"
   ]
  },
  {
   "cell_type": "code",
   "execution_count": 109,
   "metadata": {
    "collapsed": false
   },
   "outputs": [
    {
     "data": {
      "text/plain": [
       "292"
      ]
     },
     "execution_count": 109,
     "metadata": {},
     "output_type": "execute_result"
    }
   ],
   "source": [
    "articles.count()"
   ]
  }
 ],
 "metadata": {
  "kernelspec": {
   "display_name": "Python 3",
   "language": "python",
   "name": "python3"
  },
  "language_info": {
   "codemirror_mode": {
    "name": "ipython",
    "version": 3
   },
   "file_extension": ".py",
   "mimetype": "text/x-python",
   "name": "python",
   "nbconvert_exporter": "python",
   "pygments_lexer": "ipython3",
   "version": "3.5.2"
  }
 },
 "nbformat": 4,
 "nbformat_minor": 0
}
