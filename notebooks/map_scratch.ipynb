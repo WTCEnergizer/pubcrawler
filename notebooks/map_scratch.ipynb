{
 "cells": [
  {
   "cell_type": "markdown",
   "metadata": {},
   "source": [
    "## Arguments\n",
    "- db (default pmc)\n",
    "- collection (default articles)\n",
    "- skip_field (default none)\n",
    "- extractors_to_use (default all)\n",
    "- num_workers (default 4)"
   ]
  },
  {
   "cell_type": "code",
   "execution_count": 2,
   "metadata": {
    "collapsed": true
   },
   "outputs": [],
   "source": [
    "import os\n",
    "os.chdir(\"..\")"
   ]
  },
  {
   "cell_type": "code",
   "execution_count": 1,
   "metadata": {
    "collapsed": true
   },
   "outputs": [],
   "source": [
    "\n",
    "\n",
    "import multiprocessing as mp\n",
    "import time\n",
    "import sys\n",
    "import pymongo\n",
    "# from annotator.keyword_annotator import KeywordAnnotator\n",
    "# from annotator.geoname_annotator import GeonameAnnotator\n",
    "import pubcrawler.extractors as extractors\n",
    "\n",
    "# keyword_annotator = KeywordAnnotator(keywords=extractors.get_annotation_keywords())\n",
    "# geoname_annotator = GeonameAnnotator()\n",
    "\n",
    "articles = pymongo.MongoClient()[db][collection]\n",
    "\n",
    "if skip_field is not None:\n",
    "    query = {skip_field: {'$exists': False}}\n",
    "else:\n",
    "    query = {}\n",
    "\n",
    "articles.count(query)\n",
    "\n",
    "def chunk_slices(length, by):\n",
    "    items = list(range(0, length + 1, by))\n",
    "    if length % by != 0:\n",
    "        items.append(length)\n",
    "    slices = [slice(items[i], items[i+1]) for i in range(0, len(items)-1)]\n",
    "    return(slices)\n",
    "\n",
    "num_to_annotate = 100\n",
    "\n",
    "num_workers = 4\n",
    "\n",
    "queue = mp.Queue()\n",
    "for i in chunk_slices(num_to_annotate, by = 7):\n",
    "    queue.put(i)\n",
    "for w in range(num_workers):\n",
    "    queue.put('STOP')\n",
    "\n",
    "out_queue = out\n",
    "\n",
    "query = {'keywords': {'$exists': False}}\n",
    "del(query)\n",
    "\n",
    "def worker(db, collection, slice_queue, to_extract, query, out_queue):\n",
    "    articles = pymongo.MongoClient()[db][collection]\n",
    "    for s in iter(slice_queue.get, 'STOP'):\n",
    "        print(s)\n",
    "        cursor = articles.find(query)[s]\n",
    "        extractors.extract_and_write_multiple(cursor, to_extract)\n",
    "\n",
    "worker_args = (\n",
    "    'pmc',\n",
    "    'articlesubset',\n",
    "    queue,\n",
    "    extractors.extract_disease_ontology_keywords,\n",
    "    {'keywords': {'$exists': False}},\n",
    "    out_queue\n",
    ")\n",
    "\n",
    "for w in range(num_workers):\n",
    "    mp.Process(target=worker, args=worker_args).start()\n",
    "\n",
    "while not queue.empty():\n",
    "    \n",
    "\n"
   ]
  },
  {
   "cell_type": "code",
   "execution_count": 3,
   "metadata": {
    "collapsed": false
   },
   "outputs": [],
   "source": [
    "import pubcrawler.extractors as extractors"
   ]
  },
  {
   "cell_type": "code",
   "execution_count": 5,
   "metadata": {
    "collapsed": false
   },
   "outputs": [
    {
     "data": {
      "text/plain": [
       "<function pubcrawler.extractors.extract_meta>"
      ]
     },
     "execution_count": 5,
     "metadata": {},
     "output_type": "execute_result"
    }
   ],
   "source": [
    "extractors.extract_meta"
   ]
  },
  {
   "cell_type": "code",
   "execution_count": 7,
   "metadata": {
    "collapsed": false
   },
   "outputs": [
    {
     "ename": "NameError",
     "evalue": "name 'extract_meta' is not defined",
     "output_type": "error",
     "traceback": [
      "\u001b[0;31m---------------------------------------------------------------------------\u001b[0m",
      "\u001b[0;31mNameError\u001b[0m                                 Traceback (most recent call last)",
      "\u001b[0;32m<ipython-input-7-4f0dbca46e8a>\u001b[0m in \u001b[0;36m<module>\u001b[0;34m()\u001b[0m\n\u001b[0;32m----> 1\u001b[0;31m \u001b[0meval\u001b[0m\u001b[0;34m(\u001b[0m\u001b[0;34m'extract_meta'\u001b[0m\u001b[0;34m)\u001b[0m\u001b[0;34m\u001b[0m\u001b[0m\n\u001b[0m",
      "\u001b[0;32m<string>\u001b[0m in \u001b[0;36m<module>\u001b[0;34m()\u001b[0m\n",
      "\u001b[0;31mNameError\u001b[0m: name 'extract_meta' is not defined"
     ]
    }
   ],
   "source": [
    "eval('extract_meta')"
   ]
  },
  {
   "cell_type": "code",
   "execution_count": null,
   "metadata": {
    "collapsed": true
   },
   "outputs": [],
   "source": []
  },
  {
   "cell_type": "code",
   "execution_count": null,
   "metadata": {
    "collapsed": true
   },
   "outputs": [],
   "source": []
  }
 ],
 "metadata": {
  "kernelspec": {
   "display_name": "Python 3",
   "language": "python",
   "name": "python3"
  },
  "language_info": {
   "codemirror_mode": {
    "name": "ipython",
    "version": 3
   },
   "file_extension": ".py",
   "mimetype": "text/x-python",
   "name": "python",
   "nbconvert_exporter": "python",
   "pygments_lexer": "ipython3",
   "version": "3.5.2"
  }
 },
 "nbformat": 4,
 "nbformat_minor": 0
}
