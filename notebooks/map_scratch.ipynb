{
 "cells": [
  {
   "cell_type": "markdown",
   "metadata": {},
   "source": [
    "## Arguments\n",
    "- db (default pmc)\n",
    "- collection (default articles)\n",
    "- skip_field (default none)\n",
    "- extractors_to_use (default all)\n",
    "- num_workers (default 4)"
   ]
  },
  {
   "cell_type": "code",
   "execution_count": 1,
   "metadata": {
    "collapsed": true
   },
   "outputs": [],
   "source": [
    "import os\n",
    "os.chdir(\"..\")"
   ]
  },
  {
   "cell_type": "code",
   "execution_count": 2,
   "metadata": {
    "collapsed": true
   },
   "outputs": [],
   "source": [
    "    import multiprocessing as mp\n",
    "    import time\n",
    "    import sys\n",
    "    import pymongo\n",
    "    # from annotator.keyword_annotator import KeywordAnnotator\n",
    "    # from annotator.geoname_annotator import GeonameAnnotator\n",
    "    import pubcrawler.extractors as ex"
   ]
  },
  {
   "cell_type": "code",
   "execution_count": 8,
   "metadata": {
    "collapsed": false
   },
   "outputs": [
    {
     "name": "stdout",
     "output_type": "stream",
     "text": [
      "Making connection.\n",
      "About to count.\n",
      "Total for query is 7753.\n",
      "About to start.\n"
     ]
    }
   ],
   "source": [
    "    def chunk_slices(length, by):\n",
    "        items = list(range(0, length + 1, by))\n",
    "        if length % by != 0:\n",
    "            items.append(length)\n",
    "        slices = [slice(items[i], items[i+1]) for i in range(0, len(items)-1)]\n",
    "        return(slices)\n",
    "\n",
    "    def worker(url, db, collection, to_extract, query, index_queue):\n",
    "        articles = pymongo.MongoClient()[db][collection]\n",
    "        for i in iter(index_queue.get, 'STOP'):\n",
    "            print(i)\n",
    "            article = articles.find(query)[i]\n",
    "            to_write = ex.combine_extracted_info(article, to_extract)\n",
    "            articles.update_one({'_id': article['_id']}, {'$set': to_write})\n",
    "\n",
    "    import argparse\n",
    "    parser = argparse.ArgumentParser()\n",
    "    parser.add_argument(\n",
    "        \"-u\", \"--mongo_url\", default=\"localhost\", dest = \"u\"\n",
    "    )\n",
    "    parser.add_argument(\n",
    "        \"-d\", \"--mongo_db\", default=\"pmc\", dest = \"d\"\n",
    "    )\n",
    "    parser.add_argument(\n",
    "        \"-c\", \"--mongo_collection\", default=\"articlesubset\", dest = \"c\"\n",
    "    )\n",
    "    parser.add_argument(\n",
    "        \"-x\", \"-extract\", action=\"append\", default=None, dest = \"x\"\n",
    "    )\n",
    "    parser.add_argument(\n",
    "        \"-s\", \"-skip_field\", default=None, dest = \"s\"\n",
    "    )\n",
    "    parser.add_argument(\n",
    "        \"-w\", \"-workers\", default=4, dest = \"w\"\n",
    "    )\n",
    "    parser.add_argument(\n",
    "        \"-l\", \"-limit\", default=None, dest = \"l\"\n",
    "    )\n",
    "    args = parser.parse_args([\"-x\", \"extract_disease_ontology_keywords\", \"-s\", \"keywords\", \"-w\", \"8\", \"-c\", \"articlesubset\"])\n",
    "    args\n",
    "\n",
    "    if args.x is not None:\n",
    "        extractor_funs = [eval(x) for x in ['ex.' + x for x in args.x]]\n",
    "    else:\n",
    "        print(\"Please specify at least one extractor function\", file=sys.stderr)\n",
    "        sys.exit(1)\n",
    "\n",
    "    if args.s is not None:\n",
    "        query = {args.s: {'$exists': False}}\n",
    "    else:\n",
    "        query = {}\n",
    "\n",
    "    print(\"Making connection.\")\n",
    "    articles = pymongo.MongoClient(args.u)[args.d][args.c]\n",
    "\n",
    "    print(\"About to count.\")\n",
    "    total_for_query = articles.count(query)\n",
    "    num_to_annotate = args.l if args.l is not None else total_for_query\n",
    "    num_workers = int(args.w)\n",
    "    print(\"Total for query is {}.\".format(total_for_query))\n",
    "\n",
    "    queue = mp.Queue()\n",
    "    for i in range(num_to_annotate):\n",
    "        queue.put(i)\n",
    "    for w in range(num_workers):\n",
    "        queue.put('STOP')\n",
    "\n",
    "    # # Chunking, which we don't do any more.\n",
    "    # queue = mp.Queue()\n",
    "    # for i in chunk_slices(num_to_annotate, by = 100):\n",
    "    #     queue.put(i)\n",
    "    # for w in range(num_workers):\n",
    "    #     queue.put('STOP')\n",
    "\n",
    "    worker_args = (\n",
    "        args.u,\n",
    "        args.d,\n",
    "        args.c,\n",
    "        extractor_funs,\n",
    "        query,\n",
    "        queue,\n",
    "    )\n",
    "\n",
    "    print(\"About to start.\")"
   ]
  },
  {
   "cell_type": "code",
   "execution_count": null,
   "metadata": {
    "collapsed": false
   },
   "outputs": [],
   "source": [
    "    for w in range(num_workers):\n",
    "        mp.Process(target=worker, args=worker_args).start()"
   ]
  },
  {
   "cell_type": "code",
   "execution_count": null,
   "metadata": {
    "collapsed": false
   },
   "outputs": [],
   "source": [
    "articles.count(query)"
   ]
  },
  {
   "cell_type": "code",
   "execution_count": null,
   "metadata": {
    "collapsed": false
   },
   "outputs": [],
   "source": [
    "query"
   ]
  },
  {
   "cell_type": "code",
   "execution_count": null,
   "metadata": {
    "collapsed": false
   },
   "outputs": [],
   "source": [
    "import pubcrawler.extractors as extractors"
   ]
  },
  {
   "cell_type": "code",
   "execution_count": null,
   "metadata": {
    "collapsed": false
   },
   "outputs": [],
   "source": [
    "extractors.extract_meta"
   ]
  },
  {
   "cell_type": "code",
   "execution_count": null,
   "metadata": {
    "collapsed": false
   },
   "outputs": [],
   "source": [
    "eval('extract_meta')"
   ]
  },
  {
   "cell_type": "code",
   "execution_count": null,
   "metadata": {
    "collapsed": false
   },
   "outputs": [],
   "source": [
    "time.time()"
   ]
  },
  {
   "cell_type": "code",
   "execution_count": 6,
   "metadata": {
    "collapsed": false
   },
   "outputs": [],
   "source": [
    "now = time.strftime(\"%Y-%m-%d %H:%M:%S\")"
   ]
  },
  {
   "cell_type": "code",
   "execution_count": 10,
   "metadata": {
    "collapsed": false
   },
   "outputs": [
    {
     "data": {
      "text/plain": [
       "\"{'keywords': {'$exists': False}}\""
      ]
     },
     "execution_count": 10,
     "metadata": {},
     "output_type": "execute_result"
    }
   ],
   "source": [
    "str(query)"
   ]
  },
  {
   "cell_type": "code",
   "execution_count": 7,
   "metadata": {
    "collapsed": false
   },
   "outputs": [
    {
     "data": {
      "text/plain": [
       "'foo2016-09-24 17:53:38'"
      ]
     },
     "execution_count": 7,
     "metadata": {},
     "output_type": "execute_result"
    }
   ],
   "source": [
    "total_for_query = articles.count(query)\n",
    "\"At {}, query {} finds {} articles\".format(now)"
   ]
  },
  {
   "cell_type": "code",
   "execution_count": 11,
   "metadata": {
    "collapsed": true
   },
   "outputs": [],
   "source": [
    "total_for_query = articles.count(query)"
   ]
  },
  {
   "cell_type": "code",
   "execution_count": 12,
   "metadata": {
    "collapsed": false
   },
   "outputs": [
    {
     "data": {
      "text/plain": [
       "7702"
      ]
     },
     "execution_count": 12,
     "metadata": {},
     "output_type": "execute_result"
    }
   ],
   "source": [
    "total_for_query"
   ]
  },
  {
   "cell_type": "code",
   "execution_count": null,
   "metadata": {
    "collapsed": true
   },
   "outputs": [],
   "source": []
  }
 ],
 "metadata": {
  "kernelspec": {
   "display_name": "Python 3",
   "language": "python",
   "name": "python3"
  },
  "language_info": {
   "codemirror_mode": {
    "name": "ipython",
    "version": 3
   },
   "file_extension": ".py",
   "mimetype": "text/x-python",
   "name": "python",
   "nbconvert_exporter": "python",
   "pygments_lexer": "ipython3",
   "version": "3.5.2"
  }
 },
 "nbformat": 4,
 "nbformat_minor": 0
}
