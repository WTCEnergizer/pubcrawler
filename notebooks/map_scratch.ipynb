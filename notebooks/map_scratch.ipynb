{
 "cells": [
  {
   "cell_type": "markdown",
   "metadata": {},
   "source": [
    "## Arguments\n",
    "- db (default pmc)\n",
    "- collection (default articles)\n",
    "- skip_field (default none)\n",
    "- extractors_to_use (default all)\n",
    "- num_workers (default 4)"
   ]
  },
  {
   "cell_type": "code",
   "execution_count": 1,
   "metadata": {
    "collapsed": true
   },
   "outputs": [],
   "source": [
    "import os\n",
    "os.chdir(\"..\")"
   ]
  },
  {
   "cell_type": "code",
   "execution_count": 2,
   "metadata": {
    "collapsed": true
   },
   "outputs": [],
   "source": [
    "import multiprocessing as mp\n",
    "import time\n",
    "import sys\n",
    "import pymongo\n",
    "# from annotator.keyword_annotator import KeywordAnnotator\n",
    "# from annotator.geoname_annotator import GeonameAnnotator\n",
    "import pubcrawler.extractors as ex\n",
    "\n",
    "\n",
    "def chunk_slices(length, by):\n",
    "    items = list(range(0, length + 1, by))\n",
    "    if length % by != 0:\n",
    "        items.append(length)\n",
    "    slices = [slice(items[i], items[i+1]) for i in range(0, len(items)-1)]\n",
    "    return(slices)\n",
    "\n",
    "def worker(url, db, collection, to_extract, query, slice_queue):\n",
    "    articles = pymongo.MongoClient()[db][collection]\n",
    "    for s in iter(slice_queue.get, 'STOP'):\n",
    "        print(s)\n",
    "        cursor = articles.find(query)[s]\n",
    "        ex.extract_and_write_multiple(cursor, to_extract)"
   ]
  },
  {
   "cell_type": "code",
   "execution_count": 29,
   "metadata": {
    "collapsed": false
   },
   "outputs": [
    {
     "data": {
      "text/plain": [
       "Namespace(c='articlesubset', d='pmc', l=None, s='keywords', u='localhost', w='8', x=['extract_disease_ontology_keywords'])"
      ]
     },
     "execution_count": 29,
     "metadata": {},
     "output_type": "execute_result"
    }
   ],
   "source": [
    "import argparse\n",
    "parser = argparse.ArgumentParser()\n",
    "parser.add_argument(\n",
    "    \"-u\", \"--mongo_url\", default=\"localhost\", dest = \"u\"\n",
    ")\n",
    "parser.add_argument(\n",
    "    \"-d\", \"--mongo_db\", default=\"pmc\", dest = \"d\"\n",
    ")\n",
    "parser.add_argument(\n",
    "    \"-c\", \"--mongo_collection\", default=\"articlesubset\", dest = \"c\"\n",
    ")\n",
    "parser.add_argument(\n",
    "    \"-x\", \"-extract\", action=\"append\", default=None, dest = \"x\"\n",
    ")\n",
    "parser.add_argument(\n",
    "    \"-s\", \"-skip_field\", default=None, dest = \"s\"\n",
    ")\n",
    "parser.add_argument(\n",
    "    \"-w\", \"-workers\", default=4, dest = \"w\"\n",
    ")\n",
    "parser.add_argument(\n",
    "    \"-l\", \"-limit\", default=None, dest = \"l\"\n",
    ")\n",
    "args = parser.parse_args([\"-x\", \"extract_disease_ontology_keywords\", \"-s\", \"keywords\", \"-w\", \"8\", \"-c\", \"articlesubset\"])\n",
    "args"
   ]
  },
  {
   "cell_type": "code",
   "execution_count": 30,
   "metadata": {
    "collapsed": false
   },
   "outputs": [
    {
     "name": "stdout",
     "output_type": "stream",
     "text": [
      "['extract_disease_ontology_keywords']\n"
     ]
    }
   ],
   "source": [
    "if args.x is not None:\n",
    "    print(args.x)\n",
    "    extractor_funs = [eval(x) for x in ['ex.' + x for x in args.x]]\n",
    "else:\n",
    "    print(\"Please specify at least one extractor function\", file=sys.stderr)\n",
    "    sys.exit(1)"
   ]
  },
  {
   "cell_type": "code",
   "execution_count": 31,
   "metadata": {
    "collapsed": false
   },
   "outputs": [],
   "source": [
    "if args.s is not None:\n",
    "    query = {args.s: {'$exists': False}}\n",
    "else:\n",
    "    query = {}"
   ]
  },
  {
   "cell_type": "code",
   "execution_count": 32,
   "metadata": {
    "collapsed": false
   },
   "outputs": [
    {
     "name": "stdout",
     "output_type": "stream",
     "text": [
      "Making connection.\n"
     ]
    }
   ],
   "source": [
    "print(\"Making connection.\")\n",
    "articles = pymongo.MongoClient(args.u)[args.d][args.c]"
   ]
  },
  {
   "cell_type": "code",
   "execution_count": 33,
   "metadata": {
    "collapsed": false
   },
   "outputs": [
    {
     "name": "stdout",
     "output_type": "stream",
     "text": [
      "About to count.\n",
      "Total for query is 10000.\n",
      "About to chunk.\n"
     ]
    }
   ],
   "source": [
    "print(\"About to count.\")\n",
    "total_for_query = articles.count(query)\n",
    "num_to_annotate = args.l if args.l is not None else total_for_query\n",
    "num_workers = int(args.w)\n",
    "print(\"Total for query is {}.\".format(total_for_query))\n",
    "\n",
    "print(\"About to chunk.\")"
   ]
  },
  {
   "cell_type": "code",
   "execution_count": 27,
   "metadata": {
    "collapsed": true
   },
   "outputs": [],
   "source": [
    "ex.strip_article_info(articles)"
   ]
  },
  {
   "cell_type": "code",
   "execution_count": 1,
   "metadata": {
    "collapsed": true
   },
   "outputs": [],
   "source": [
    "queue = mp.Queue()\n",
    "for i in chunk_slices(num_to_annotate, by = 100):\n",
    "    queue.put(i)\n",
    "for w in range(num_workers):\n",
    "    queue.put('STOP')\n",
    "\n",
    "\n",
    "worker_args = (\n",
    "    args.u,\n",
    "    args.d,\n",
    "    args.c,\n",
    "    extractor_funs,\n",
    "    query,\n",
    "    queue,\n",
    ")\n",
    "\n",
    "print(\"About to start.\")\n",
    "\n",
    "for w in range(num_workers):\n",
    "    mp.Process(target=worker, args=worker_args).start()"
   ]
  },
  {
   "cell_type": "code",
   "execution_count": 3,
   "metadata": {
    "collapsed": false
   },
   "outputs": [],
   "source": [
    "import pubcrawler.extractors as extractors"
   ]
  },
  {
   "cell_type": "code",
   "execution_count": 5,
   "metadata": {
    "collapsed": false
   },
   "outputs": [
    {
     "data": {
      "text/plain": [
       "<function pubcrawler.extractors.extract_meta>"
      ]
     },
     "execution_count": 5,
     "metadata": {},
     "output_type": "execute_result"
    }
   ],
   "source": [
    "extractors.extract_meta"
   ]
  },
  {
   "cell_type": "code",
   "execution_count": 7,
   "metadata": {
    "collapsed": false
   },
   "outputs": [
    {
     "ename": "NameError",
     "evalue": "name 'extract_meta' is not defined",
     "output_type": "error",
     "traceback": [
      "\u001b[0;31m---------------------------------------------------------------------------\u001b[0m",
      "\u001b[0;31mNameError\u001b[0m                                 Traceback (most recent call last)",
      "\u001b[0;32m<ipython-input-7-4f0dbca46e8a>\u001b[0m in \u001b[0;36m<module>\u001b[0;34m()\u001b[0m\n\u001b[0;32m----> 1\u001b[0;31m \u001b[0meval\u001b[0m\u001b[0;34m(\u001b[0m\u001b[0;34m'extract_meta'\u001b[0m\u001b[0;34m)\u001b[0m\u001b[0;34m\u001b[0m\u001b[0m\n\u001b[0m",
      "\u001b[0;32m<string>\u001b[0m in \u001b[0;36m<module>\u001b[0;34m()\u001b[0m\n",
      "\u001b[0;31mNameError\u001b[0m: name 'extract_meta' is not defined"
     ]
    }
   ],
   "source": [
    "eval('extract_meta')"
   ]
  },
  {
   "cell_type": "code",
   "execution_count": null,
   "metadata": {
    "collapsed": true
   },
   "outputs": [],
   "source": []
  },
  {
   "cell_type": "code",
   "execution_count": null,
   "metadata": {
    "collapsed": true
   },
   "outputs": [],
   "source": []
  }
 ],
 "metadata": {
  "kernelspec": {
   "display_name": "Python 3",
   "language": "python",
   "name": "python3"
  },
  "language_info": {
   "codemirror_mode": {
    "name": "ipython",
    "version": 3
   },
   "file_extension": ".py",
   "mimetype": "text/x-python",
   "name": "python",
   "nbconvert_exporter": "python",
   "pygments_lexer": "ipython3",
   "version": "3.5.2"
  }
 },
 "nbformat": 4,
 "nbformat_minor": 0
}
