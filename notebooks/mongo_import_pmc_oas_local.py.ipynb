{
 "cells": [
  {
   "cell_type": "code",
   "execution_count": 1,
   "metadata": {
    "collapsed": true
   },
   "outputs": [],
   "source": [
    "import pymongo\n",
    "import time\n",
    "import os"
   ]
  },
  {
   "cell_type": "code",
   "execution_count": 5,
   "metadata": {
    "collapsed": false
   },
   "outputs": [
    {
     "data": {
      "text/plain": [
       "Collection(Database(MongoClient(host=['localhost:27017'], document_class=dict, tz_aware=False, connect=True), 'pmc'), 'articles')"
      ]
     },
     "execution_count": 5,
     "metadata": {},
     "output_type": "execute_result"
    }
   ],
   "source": [
    "articles = pymongo.MongoClient().pmc.articles\n",
    "articles"
   ]
  },
  {
   "cell_type": "code",
   "execution_count": null,
   "metadata": {
    "collapsed": false
   },
   "outputs": [],
   "source": [
    "def get_article(file_path):\n",
    "    base = os.path.basename(file_path)\n",
    "    name = os.path.splitext(base)[0]\n",
    "    with open(file_path, 'r') as f:\n",
    "        nxml = f.read()\n",
    "    article = {\"_id\": name,\n",
    "               \"nxml\": nxml}\n",
    "    return(article)"
   ]
  },
  {
   "cell_type": "code",
   "execution_count": null,
   "metadata": {
    "collapsed": true
   },
   "outputs": [],
   "source": [
    "x = \"/Volumes/Transcend/pmc-subset/articles.I-N/\"\\\n",
    "    \"J_Infect_Dis/J_Infect_Dis_2011_Aug_1_204(3)_488-489.nxml\"\n",
    "get_article(x)"
   ]
  },
  {
   "cell_type": "code",
   "execution_count": null,
   "metadata": {
    "collapsed": false
   },
   "outputs": [],
   "source": [
    "articles.insert_one(article)"
   ]
  },
  {
   "cell_type": "code",
   "execution_count": 3,
   "metadata": {
    "collapsed": true
   },
   "outputs": [],
   "source": [
    "path_to_articles = \"/Volumes/Transcend/pmc-subset\""
   ]
  },
  {
   "cell_type": "code",
   "execution_count": 4,
   "metadata": {
    "collapsed": true
   },
   "outputs": [],
   "source": [
    "article_paths = []"
   ]
  },
  {
   "cell_type": "code",
   "execution_count": 6,
   "metadata": {
    "collapsed": false
   },
   "outputs": [],
   "source": [
    "for (dirpath, dirnames, filenames) in os.walk(path_to_articles):\n",
    "    for name in filenames:\n",
    "        filepath = os.path.join(dirpath, name)\n",
    "        if filepath.endswith('nxml'):\n",
    "            article_paths.append(filepath)"
   ]
  },
  {
   "cell_type": "code",
   "execution_count": 7,
   "metadata": {
    "collapsed": false
   },
   "outputs": [
    {
     "data": {
      "text/plain": [
       "['/Volumes/Transcend/pmc-subset/articles.I-N/J_Infect_Dis/J_Infect_Dis_2011_Apr_15_203(8)_1054-1062.nxml',\n",
       " '/Volumes/Transcend/pmc-subset/articles.I-N/J_Infect_Dis/J_Infect_Dis_2011_Apr_1_203(7)_898-909.nxml',\n",
       " '/Volumes/Transcend/pmc-subset/articles.I-N/J_Infect_Dis/J_Infect_Dis_2011_Aug_15_204(4)_574-581.nxml',\n",
       " '/Volumes/Transcend/pmc-subset/articles.I-N/J_Infect_Dis/J_Infect_Dis_2011_Aug_1_204(3)_358-362.nxml',\n",
       " '/Volumes/Transcend/pmc-subset/articles.I-N/J_Infect_Dis/J_Infect_Dis_2011_Aug_1_204(3)_451-458.nxml',\n",
       " '/Volumes/Transcend/pmc-subset/articles.I-N/J_Infect_Dis/J_Infect_Dis_2011_Aug_1_204(3)_488-489.nxml',\n",
       " '/Volumes/Transcend/pmc-subset/articles.I-N/J_Infect_Dis/J_Infect_Dis_2011_Feb_15_203(4)_452-463.nxml',\n",
       " '/Volumes/Transcend/pmc-subset/articles.I-N/J_Infect_Dis/J_Infect_Dis_2011_Feb_15_203(4)_464-472.nxml',\n",
       " '/Volumes/Transcend/pmc-subset/articles.I-N/J_Infect_Dis/J_Infect_Dis_2011_Feb_15_203(4)_556-560.nxml',\n",
       " '/Volumes/Transcend/pmc-subset/articles.I-N/J_Infect_Dis/J_Infect_Dis_2011_Feb_1_203(3)_406-417.nxml',\n",
       " '/Volumes/Transcend/pmc-subset/articles.I-N/J_Infect_Dis/J_Infect_Dis_2011_Feb_1_203(3)_418-429.nxml',\n",
       " '/Volumes/Transcend/pmc-subset/articles.I-N/J_Infect_Dis/J_Infect_Dis_2011_Jan_15_203(2)_149-157.nxml',\n",
       " '/Volumes/Transcend/pmc-subset/articles.I-N/J_Infect_Dis/J_Infect_Dis_2011_Jan_15_203(2)_175-179.nxml',\n",
       " '/Volumes/Transcend/pmc-subset/articles.I-N/J_Infect_Dis/J_Infect_Dis_2011_Jan_15_203(2)_207-210.nxml',\n",
       " '/Volumes/Transcend/pmc-subset/articles.I-N/J_Infect_Dis/J_Infect_Dis_2011_Jan_15_203(2)_258-262.nxml',\n",
       " '/Volumes/Transcend/pmc-subset/articles.I-N/J_Infect_Dis/J_Infect_Dis_2011_Jan_1_203(1)_32-39.nxml',\n",
       " '/Volumes/Transcend/pmc-subset/articles.I-N/J_Infect_Dis/J_Infect_Dis_2011_Jul_15_204(2)_237-244.nxml',\n",
       " '/Volumes/Transcend/pmc-subset/articles.I-N/J_Infect_Dis/J_Infect_Dis_2011_Jul_15_204(2)_268-273.nxml',\n",
       " '/Volumes/Transcend/pmc-subset/articles.I-N/J_Infect_Dis/J_Infect_Dis_2011_Jul_1_204(1)_36-43.nxml',\n",
       " '/Volumes/Transcend/pmc-subset/articles.I-N/J_Infect_Dis/J_Infect_Dis_2011_Jul_1_204(1)_9-18.nxml',\n",
       " '/Volumes/Transcend/pmc-subset/articles.I-N/J_Infect_Dis/J_Infect_Dis_2011_Jun_15_203(12)_1729-1738.nxml',\n",
       " '/Volumes/Transcend/pmc-subset/articles.I-N/J_Infect_Dis/J_Infect_Dis_2011_Jun_15_203(12)_1775-1783.nxml',\n",
       " '/Volumes/Transcend/pmc-subset/articles.I-N/J_Infect_Dis/J_Infect_Dis_2011_Mar_1_203(5)_691-699.nxml',\n",
       " '/Volumes/Transcend/pmc-subset/articles.I-N/J_Infect_Dis/J_Infect_Dis_2011_May_15_203(10)_1378-1387.nxml',\n",
       " '/Volumes/Transcend/pmc-subset/articles.I-N/J_Infect_Dis/J_Infect_Dis_2011_May_15_203(10)_1445-1453.nxml',\n",
       " '/Volumes/Transcend/pmc-subset/articles.I-N/J_Infect_Dis/J_Infect_Dis_2011_May_15_203(10)_1464-1473.nxml',\n",
       " '/Volumes/Transcend/pmc-subset/articles.I-N/J_Infect_Dis/J_Infect_Dis_2011_May_1_203(9)_1204-1214.nxml',\n",
       " '/Volumes/Transcend/pmc-subset/articles.I-N/J_Infect_Dis/J_Infect_Dis_2011_May_1_203(9)_1292-1300.nxml',\n",
       " '/Volumes/Transcend/pmc-subset/articles.I-N/J_Infect_Dis/J_Infect_Dis_2011_May_1_203(9)_1301-1308.nxml',\n",
       " '/Volumes/Transcend/pmc-subset/articles.I-N/J_Infect_Dis/J_Infect_Dis_2011_Nov_15_204(10)_1573-1584.nxml',\n",
       " '/Volumes/Transcend/pmc-subset/articles.I-N/J_Infect_Dis/J_Infect_Dis_2011_Nov_15_204(10)_1613-1619.nxml',\n",
       " '/Volumes/Transcend/pmc-subset/articles.I-N/J_Infect_Dis/J_Infect_Dis_2011_Nov_15_204(Suppl_4)_S1151-S1158.nxml',\n",
       " '/Volumes/Transcend/pmc-subset/articles.I-N/J_Infect_Dis/J_Infect_Dis_2011_Nov_15_204(Suppl_4)_S1159-S1167.nxml',\n",
       " '/Volumes/Transcend/pmc-subset/articles.I-N/J_Infect_Dis/J_Infect_Dis_2011_Nov_15_204(Suppl_4)_S1187-S1195.nxml',\n",
       " '/Volumes/Transcend/pmc-subset/articles.I-N/J_Infect_Dis/J_Infect_Dis_2011_Nov_1_204(9)_1321-1327.nxml',\n",
       " '/Volumes/Transcend/pmc-subset/articles.I-N/J_Infect_Dis/J_Infect_Dis_2011_Nov_1_204(9)_1463-1469.nxml',\n",
       " '/Volumes/Transcend/pmc-subset/articles.I-N/J_Infect_Dis/J_Infect_Dis_2011_Oct_15_204(8)_1237-1245.nxml',\n",
       " '/Volumes/Transcend/pmc-subset/articles.I-N/J_Infect_Dis/J_Infect_Dis_2011_Oct_1_204(7)_1046-1053.nxml',\n",
       " '/Volumes/Transcend/pmc-subset/articles.I-N/J_Infect_Dis/J_Infect_Dis_2011_Oct_1_204(7)_1075-1085.nxml',\n",
       " '/Volumes/Transcend/pmc-subset/articles.I-N/J_Infect_Dis/J_Infect_Dis_2011_Oct_1_204(7)_1104-1114.nxml',\n",
       " '/Volumes/Transcend/pmc-subset/articles.I-N/J_Infect_Dis/J_Infect_Dis_2011_Sep_15_204(6)_837-844.nxml',\n",
       " '/Volumes/Transcend/pmc-subset/articles.I-N/J_Infect_Dis/J_Infect_Dis_2011_Sep_15_204(6)_930-936.nxml',\n",
       " '/Volumes/Transcend/pmc-subset/articles.I-N/J_Infect_Dis/J_Infect_Dis_2011_Sep_15_204(6)_962-970.nxml',\n",
       " '/Volumes/Transcend/pmc-subset/articles.I-N/J_Infect_Dis/J_Infect_Dis_2011_Sep_1_204(5)_777-782.nxml',\n",
       " '/Volumes/Transcend/pmc-subset/articles.I-N/J_Infect_Dis/J_Infect_Dis_2012_Apr_15_205(8)_1278-1286.nxml',\n",
       " '/Volumes/Transcend/pmc-subset/articles.I-N/J_Infect_Dis/J_Infect_Dis_2012_Apr_15_205(8)_1311-1320.nxml',\n",
       " '/Volumes/Transcend/pmc-subset/articles.I-N/J_Infect_Dis/J_Infect_Dis_2012_Apr_1_205(7)_1035-1042.nxml',\n",
       " '/Volumes/Transcend/pmc-subset/articles.I-N/J_Infect_Dis/J_Infect_Dis_2012_Apr_1_205(7)_1147-1154.nxml',\n",
       " '/Volumes/Transcend/pmc-subset/articles.I-N/J_Infect_Dis/J_Infect_Dis_2012_Aug_15_206(4)_618-619.nxml',\n",
       " '/Volumes/Transcend/pmc-subset/articles.I-N/J_Infect_Dis/J_Infect_Dis_2012_Aug_15_206(4)_619-621.nxml',\n",
       " '/Volumes/Transcend/pmc-subset/articles.I-N/J_Infect_Dis/J_Infect_Dis_2012_Aug_1_206(3)_431-441.nxml',\n",
       " '/Volumes/Transcend/pmc-subset/articles.I-N/J_Infect_Dis/J_Infect_Dis_2012_Dec_15_206(Suppl_1)_S61-S67.nxml',\n",
       " '/Volumes/Transcend/pmc-subset/articles.I-N/J_Infect_Dis/J_Infect_Dis_2012_Dec_1_206(11)_1652-1659.nxml',\n",
       " '/Volumes/Transcend/pmc-subset/articles.I-N/J_Infect_Dis/J_Infect_Dis_2012_Feb_15_205(4)_680-683.nxml',\n",
       " '/Volumes/Transcend/pmc-subset/articles.I-N/J_Infect_Dis/J_Infect_Dis_2012_Feb_1_205(3)_412-421.nxml',\n",
       " '/Volumes/Transcend/pmc-subset/articles.I-N/J_Infect_Dis/J_Infect_Dis_2012_Feb_1_205(3)_431-444.nxml',\n",
       " '/Volumes/Transcend/pmc-subset/articles.I-N/J_Infect_Dis/J_Infect_Dis_2012_Jan_15_205(2)_297-304.nxml',\n",
       " '/Volumes/Transcend/pmc-subset/articles.I-N/J_Infect_Dis/J_Infect_Dis_2012_Jan_1_205(1)_106-110.nxml',\n",
       " '/Volumes/Transcend/pmc-subset/articles.I-N/J_Infect_Dis/J_Infect_Dis_2012_Jul_15_206(2)_148-157.nxml',\n",
       " '/Volumes/Transcend/pmc-subset/articles.I-N/J_Infect_Dis/J_Infect_Dis_2012_Jul_15_206(2)_220-228.nxml',\n",
       " '/Volumes/Transcend/pmc-subset/articles.I-N/J_Infect_Dis/J_Infect_Dis_2012_Jul_15_206(2)_229-237.nxml',\n",
       " '/Volumes/Transcend/pmc-subset/articles.I-N/J_Infect_Dis/J_Infect_Dis_2012_Jun_15_205(12)_1816-1820.nxml',\n",
       " '/Volumes/Transcend/pmc-subset/articles.I-N/J_Infect_Dis/J_Infect_Dis_2012_Jun_1_205(11)_1688-1696.nxml',\n",
       " '/Volumes/Transcend/pmc-subset/articles.I-N/J_Infect_Dis/J_Infect_Dis_2012_Mar_1_205(5)_772-781.nxml',\n",
       " '/Volumes/Transcend/pmc-subset/articles.I-N/J_Infect_Dis/J_Infect_Dis_2012_Mar_1_205(5)_798-806.nxml',\n",
       " '/Volumes/Transcend/pmc-subset/articles.I-N/J_Infect_Dis/J_Infect_Dis_2012_Mar_1_205(5)_841-852.nxml',\n",
       " '/Volumes/Transcend/pmc-subset/articles.I-N/J_Infect_Dis/J_Infect_Dis_2012_Mar_1_205(5)_853-863.nxml',\n",
       " '/Volumes/Transcend/pmc-subset/articles.I-N/J_Infect_Dis/J_Infect_Dis_2012_Mar_1_205(Suppl_1)_S120-S125.nxml',\n",
       " '/Volumes/Transcend/pmc-subset/articles.I-N/J_Infect_Dis/J_Infect_Dis_2012_Mar_1_205(Suppl_1)_S20-S27.nxml',\n",
       " '/Volumes/Transcend/pmc-subset/articles.I-N/J_Infect_Dis/J_Infect_Dis_2012_May_15_205(Suppl_2)_S347-S352.nxml',\n",
       " '/Volumes/Transcend/pmc-subset/articles.I-N/J_Infect_Dis/J_Infect_Dis_2012_May_1_205(9)_1408-1416.nxml',\n",
       " '/Volumes/Transcend/pmc-subset/articles.I-N/J_Infect_Dis/J_Infect_Dis_2012_Nov_15_206(10)_1532-1541.nxml',\n",
       " '/Volumes/Transcend/pmc-subset/articles.I-N/J_Infect_Dis/J_Infect_Dis_2012_Nov_15_206(10)_1589-1596.nxml',\n",
       " '/Volumes/Transcend/pmc-subset/articles.I-N/J_Infect_Dis/J_Infect_Dis_2012_Nov_15_206(10)_1612-1621.nxml',\n",
       " '/Volumes/Transcend/pmc-subset/articles.I-N/J_Infect_Dis/J_Infect_Dis_2012_Oct_15_206(8)_1178-1184.nxml',\n",
       " '/Volumes/Transcend/pmc-subset/articles.I-N/J_Infect_Dis/J_Infect_Dis_2012_Oct_1_206(7)_1020-1029.nxml',\n",
       " '/Volumes/Transcend/pmc-subset/articles.I-N/J_Infect_Dis/J_Infect_Dis_2012_Oct_1_206(7)_1138-1148.nxml',\n",
       " '/Volumes/Transcend/pmc-subset/articles.I-N/J_Infect_Dis/J_Infect_Dis_2012_Sep_1_206(5)_678-686.nxml',\n",
       " '/Volumes/Transcend/pmc-subset/articles.I-N/J_Infect_Dis/J_Infect_Dis_2013_Apr_1_207(7)_1148-1156.nxml',\n",
       " '/Volumes/Transcend/pmc-subset/articles.I-N/J_Infect_Dis/J_Infect_Dis_2013_Aug_15_208(4)_544-553.nxml',\n",
       " '/Volumes/Transcend/pmc-subset/articles.I-N/J_Infect_Dis/J_Infect_Dis_2013_Aug_15_208(4)_554-558.nxml',\n",
       " '/Volumes/Transcend/pmc-subset/articles.I-N/J_Infect_Dis/J_Infect_Dis_2013_Aug_15_208(4)_573-583.nxml',\n",
       " '/Volumes/Transcend/pmc-subset/articles.I-N/J_Infect_Dis/J_Infect_Dis_2013_Aug_15_208(4)_637-644.nxml',\n",
       " '/Volumes/Transcend/pmc-subset/articles.I-N/J_Infect_Dis/J_Infect_Dis_2013_Aug_15_208(4)_645-652.nxml',\n",
       " '/Volumes/Transcend/pmc-subset/articles.I-N/J_Infect_Dis/J_Infect_Dis_2013_Dec_15_208(12)_2007-2016.nxml',\n",
       " '/Volumes/Transcend/pmc-subset/articles.I-N/J_Infect_Dis/J_Infect_Dis_2013_Dec_15_208(12)_2017-2024.nxml',\n",
       " '/Volumes/Transcend/pmc-subset/articles.I-N/J_Infect_Dis/J_Infect_Dis_2013_Dec_15_208(12)_2046-2057.nxml',\n",
       " '/Volumes/Transcend/pmc-subset/articles.I-N/J_Infect_Dis/J_Infect_Dis_2013_Dec_1_208(11)_1906-1913.nxml',\n",
       " '/Volumes/Transcend/pmc-subset/articles.I-N/J_Infect_Dis/J_Infect_Dis_2013_Feb_15_207(4)_553-563.nxml',\n",
       " '/Volumes/Transcend/pmc-subset/articles.I-N/J_Infect_Dis/J_Infect_Dis_2013_Feb_15_207(4)_656-660.nxml',\n",
       " '/Volumes/Transcend/pmc-subset/articles.I-N/J_Infect_Dis/J_Infect_Dis_2013_Feb_1_207(3)_439-449.nxml',\n",
       " '/Volumes/Transcend/pmc-subset/articles.I-N/J_Infect_Dis/J_Infect_Dis_2013_Feb_1_207(3)_489-492.nxml',\n",
       " '/Volumes/Transcend/pmc-subset/articles.I-N/J_Infect_Dis/J_Infect_Dis_2013_Jan_15_207(2)_351-361.nxml',\n",
       " '/Volumes/Transcend/pmc-subset/articles.I-N/J_Infect_Dis/J_Infect_Dis_2013_Jan_15_207(2)_362-366.nxml',\n",
       " '/Volumes/Transcend/pmc-subset/articles.I-N/J_Infect_Dis/J_Infect_Dis_2013_Jan_15_207(2)_370-371.nxml',\n",
       " '/Volumes/Transcend/pmc-subset/articles.I-N/J_Infect_Dis/J_Infect_Dis_2013_Jul_15_208(2)_192-198.nxml',\n",
       " '/Volumes/Transcend/pmc-subset/articles.I-N/J_Infect_Dis/J_Infect_Dis_2013_Jul_15_208(2)_340-345.nxml',\n",
       " '/Volumes/Transcend/pmc-subset/articles.I-N/J_Infect_Dis/J_Infect_Dis_2013_Jul_15_208(2)_346-350.nxml',\n",
       " '/Volumes/Transcend/pmc-subset/articles.I-N/J_Infect_Dis/J_Infect_Dis_2013_Jul_1_208(1)_109-119.nxml',\n",
       " '/Volumes/Transcend/pmc-subset/articles.I-N/J_Infect_Dis/J_Infect_Dis_2013_Jul_1_208(1)_159-169.nxml',\n",
       " '/Volumes/Transcend/pmc-subset/articles.I-N/J_Infect_Dis/J_Infect_Dis_2013_Jun_15_207(12)_1817-1828.nxml',\n",
       " '/Volumes/Transcend/pmc-subset/articles.I-N/J_Infect_Dis/J_Infect_Dis_2013_Jun_15_207(12)_1878-1887.nxml',\n",
       " '/Volumes/Transcend/pmc-subset/articles.I-N/J_Infect_Dis/J_Infect_Dis_2013_Jun_1_207(11)_1655-1663.nxml',\n",
       " '/Volumes/Transcend/pmc-subset/articles.I-N/J_Infect_Dis/J_Infect_Dis_2013_Jun_1_207(11)_1753-1763.nxml',\n",
       " '/Volumes/Transcend/pmc-subset/articles.I-N/J_Infect_Dis/J_Infect_Dis_2013_Mar_1_207(5)_740-748.nxml',\n",
       " '/Volumes/Transcend/pmc-subset/articles.I-N/J_Infect_Dis/J_Infect_Dis_2013_Mar_1_207(5)_842-847.nxml',\n",
       " '/Volumes/Transcend/pmc-subset/articles.I-N/J_Infect_Dis/J_Infect_Dis_2013_May_1_207(9)_1442-1450.nxml',\n",
       " '/Volumes/Transcend/pmc-subset/articles.I-N/J_Infect_Dis/J_Infect_Dis_2013_Nov_1_208(9)_1391-1396.nxml',\n",
       " '/Volumes/Transcend/pmc-subset/articles.I-N/J_Infect_Dis/J_Infect_Dis_2013_Nov_1_208(9)_1397-1403.nxml',\n",
       " '/Volumes/Transcend/pmc-subset/articles.I-N/J_Infect_Dis/J_Infect_Dis_2013_Nov_1_208(9)_1459-1463.nxml',\n",
       " '/Volumes/Transcend/pmc-subset/articles.I-N/J_Infect_Dis/J_Infect_Dis_2013_Nov_1_208(9)_1494-1503.nxml',\n",
       " '/Volumes/Transcend/pmc-subset/articles.I-N/J_Infect_Dis/J_Infect_Dis_2013_Sep_15_208(6)_1008-1019.nxml',\n",
       " '/Volumes/Transcend/pmc-subset/articles.I-N/J_Infect_Dis/J_Infect_Dis_2013_Sep_15_208(6)_952-968.nxml',\n",
       " '/Volumes/Transcend/pmc-subset/articles.I-N/J_Infect_Dis/J_Infect_Dis_2013_Sep_1_208(5)_801-812.nxml',\n",
       " '/Volumes/Transcend/pmc-subset/articles.I-N/J_Infect_Dis/J_Infect_Dis_2014_Apr_15_209(8)_1259-1268.nxml',\n",
       " '/Volumes/Transcend/pmc-subset/articles.I-N/J_Infect_Dis/J_Infect_Dis_2014_Apr_1_209(7)_1126-1135.nxml',\n",
       " '/Volumes/Transcend/pmc-subset/articles.I-N/J_Infect_Dis/J_Infect_Dis_2014_Aug_15_210(4)_517-534.nxml',\n",
       " '/Volumes/Transcend/pmc-subset/articles.I-N/J_Infect_Dis/J_Infect_Dis_2014_Aug_15_210(4)_545-557.nxml',\n",
       " '/Volumes/Transcend/pmc-subset/articles.I-N/J_Infect_Dis/J_Infect_Dis_2014_Aug_15_210(4)_611-618.nxml',\n",
       " '/Volumes/Transcend/pmc-subset/articles.I-N/J_Infect_Dis/J_Infect_Dis_2014_Aug_15_210(4)_656-666.nxml',\n",
       " '/Volumes/Transcend/pmc-subset/articles.I-N/J_Infect_Dis/J_Infect_Dis_2014_Aug_1_210(3)_354-362.nxml',\n",
       " '/Volumes/Transcend/pmc-subset/articles.I-N/J_Infect_Dis/J_Infect_Dis_2014_Aug_1_210(3)_363-373.nxml',\n",
       " '/Volumes/Transcend/pmc-subset/articles.I-N/J_Infect_Dis/J_Infect_Dis_2014_Aug_1_210(3)_435-440.nxml',\n",
       " '/Volumes/Transcend/pmc-subset/articles.I-N/J_Infect_Dis/J_Infect_Dis_2014_Aug_1_210(3)_473-482.nxml',\n",
       " '/Volumes/Transcend/pmc-subset/articles.I-N/J_Infect_Dis/J_Infect_Dis_2014_Dec_15_210(12)_1928-1937.nxml',\n",
       " '/Volumes/Transcend/pmc-subset/articles.I-N/J_Infect_Dis/J_Infect_Dis_2014_Dec_15_210(12)_1981-1990.nxml',\n",
       " '/Volumes/Transcend/pmc-subset/articles.I-N/J_Infect_Dis/J_Infect_Dis_2014_Dec_15_210(12)_1991-2000.nxml',\n",
       " '/Volumes/Transcend/pmc-subset/articles.I-N/J_Infect_Dis/J_Infect_Dis_2014_Dec_15_210(12)_2001-2008.nxml',\n",
       " '/Volumes/Transcend/pmc-subset/articles.I-N/J_Infect_Dis/J_Infect_Dis_2014_Dec_15_210(12)_2009-2016.nxml',\n",
       " '/Volumes/Transcend/pmc-subset/articles.I-N/J_Infect_Dis/J_Infect_Dis_2014_Dec_15_210(12)_2018-2019.nxml',\n",
       " '/Volumes/Transcend/pmc-subset/articles.I-N/J_Infect_Dis/J_Infect_Dis_2014_Dec_1_210(11)_1700-1710.nxml',\n",
       " '/Volumes/Transcend/pmc-subset/articles.I-N/J_Infect_Dis/J_Infect_Dis_2014_Dec_1_210(11)_1800-1810.nxml',\n",
       " '/Volumes/Transcend/pmc-subset/articles.I-N/J_Infect_Dis/J_Infect_Dis_2014_Dec_1_210(Suppl_2)_S547-S548.nxml',\n",
       " '/Volumes/Transcend/pmc-subset/articles.I-N/J_Infect_Dis/J_Infect_Dis_2014_Dec_1_210(Suppl_2)_S549-S555.nxml',\n",
       " '/Volumes/Transcend/pmc-subset/articles.I-N/J_Infect_Dis/J_Infect_Dis_2014_Dec_1_210(Suppl_2)_S556-S561.nxml',\n",
       " '/Volumes/Transcend/pmc-subset/articles.I-N/J_Infect_Dis/J_Infect_Dis_2014_Dec_1_210(Suppl_2)_S562-S568.nxml',\n",
       " '/Volumes/Transcend/pmc-subset/articles.I-N/J_Infect_Dis/J_Infect_Dis_2014_Dec_1_210(Suppl_2)_S569-S578.nxml',\n",
       " '/Volumes/Transcend/pmc-subset/articles.I-N/J_Infect_Dis/J_Infect_Dis_2014_Dec_1_210(Suppl_2)_S579-S585.nxml',\n",
       " '/Volumes/Transcend/pmc-subset/articles.I-N/J_Infect_Dis/J_Infect_Dis_2014_Dec_1_210(Suppl_2)_S586-S593.nxml',\n",
       " '/Volumes/Transcend/pmc-subset/articles.I-N/J_Infect_Dis/J_Infect_Dis_2014_Dec_1_210(Suppl_2)_S594-S599.nxml',\n",
       " '/Volumes/Transcend/pmc-subset/articles.I-N/J_Infect_Dis/J_Infect_Dis_2014_Dec_1_210(Suppl_2)_S600-S604.nxml',\n",
       " '/Volumes/Transcend/pmc-subset/articles.I-N/J_Infect_Dis/J_Infect_Dis_2014_Feb_15_209(4)_491-499.nxml',\n",
       " '/Volumes/Transcend/pmc-subset/articles.I-N/J_Infect_Dis/J_Infect_Dis_2014_Feb_15_209(4)_500-509.nxml',\n",
       " '/Volumes/Transcend/pmc-subset/articles.I-N/J_Infect_Dis/J_Infect_Dis_2014_Feb_15_209(4)_562-570.nxml',\n",
       " '/Volumes/Transcend/pmc-subset/articles.I-N/J_Infect_Dis/J_Infect_Dis_2014_Feb_15_209(4)_600-609.nxml',\n",
       " '/Volumes/Transcend/pmc-subset/articles.I-N/J_Infect_Dis/J_Infect_Dis_2014_Feb_15_209(4)_610-615.nxml',\n",
       " '/Volumes/Transcend/pmc-subset/articles.I-N/J_Infect_Dis/J_Infect_Dis_2014_Feb_1_209(3)_377-388.nxml',\n",
       " '/Volumes/Transcend/pmc-subset/articles.I-N/J_Infect_Dis/J_Infect_Dis_2014_Feb_1_209(3)_431-440.nxml',\n",
       " '/Volumes/Transcend/pmc-subset/articles.I-N/J_Infect_Dis/J_Infect_Dis_2014_Jan_15_209(2)_180-182.nxml',\n",
       " '/Volumes/Transcend/pmc-subset/articles.I-N/J_Infect_Dis/J_Infect_Dis_2014_Jan_15_209(2)_270-274.nxml',\n",
       " '/Volumes/Transcend/pmc-subset/articles.I-N/J_Infect_Dis/J_Infect_Dis_2014_Jan_1_209(1)_120-129.nxml',\n",
       " '/Volumes/Transcend/pmc-subset/articles.I-N/J_Infect_Dis/J_Infect_Dis_2014_Jan_1_209(1)_74-82.nxml',\n",
       " '/Volumes/Transcend/pmc-subset/articles.I-N/J_Infect_Dis/J_Infect_Dis_2014_Jan_1_209(1)_83-86.nxml',\n",
       " '/Volumes/Transcend/pmc-subset/articles.I-N/J_Infect_Dis/J_Infect_Dis_2014_Jul_15_209(Suppl_3)_S120-S126.nxml',\n",
       " '/Volumes/Transcend/pmc-subset/articles.I-N/J_Infect_Dis/J_Infect_Dis_2014_Jul_15_210(2)_200-208.nxml',\n",
       " '/Volumes/Transcend/pmc-subset/articles.I-N/J_Infect_Dis/J_Infect_Dis_2014_Jul_15_210(2)_306-310.nxml',\n",
       " '/Volumes/Transcend/pmc-subset/articles.I-N/J_Infect_Dis/J_Infect_Dis_2014_Jul_1_210(1)_161-163.nxml',\n",
       " '/Volumes/Transcend/pmc-subset/articles.I-N/J_Infect_Dis/J_Infect_Dis_2014_Jul_1_210(1)_4-13.nxml',\n",
       " '/Volumes/Transcend/pmc-subset/articles.I-N/J_Infect_Dis/J_Infect_Dis_2014_Jul_1_210(1)_56-64.nxml',\n",
       " '/Volumes/Transcend/pmc-subset/articles.I-N/J_Infect_Dis/J_Infect_Dis_2014_Jun_15_209(12)_1873-1881.nxml',\n",
       " '/Volumes/Transcend/pmc-subset/articles.I-N/J_Infect_Dis/J_Infect_Dis_2014_Jun_15_209(Suppl_2)_S66-S70.nxml',\n",
       " '/Volumes/Transcend/pmc-subset/articles.I-N/J_Infect_Dis/J_Infect_Dis_2014_Jun_1_209(11)_1685-1692.nxml',\n",
       " '/Volumes/Transcend/pmc-subset/articles.I-N/J_Infect_Dis/J_Infect_Dis_2014_Jun_1_209(11)_1731-1738.nxml',\n",
       " '/Volumes/Transcend/pmc-subset/articles.I-N/J_Infect_Dis/J_Infect_Dis_2014_Jun_1_209(11)_1792-1800.nxml',\n",
       " '/Volumes/Transcend/pmc-subset/articles.I-N/J_Infect_Dis/J_Infect_Dis_2014_Jun_1_209(11)_1808-1815.nxml',\n",
       " '/Volumes/Transcend/pmc-subset/articles.I-N/J_Infect_Dis/J_Infect_Dis_2014_Jun_1_209(11)_1816-1826.nxml',\n",
       " '/Volumes/Transcend/pmc-subset/articles.I-N/J_Infect_Dis/J_Infect_Dis_2014_Mar_1_209(5)_652-657.nxml',\n",
       " '/Volumes/Transcend/pmc-subset/articles.I-N/J_Infect_Dis/J_Infect_Dis_2014_Mar_1_209(5)_711-720.nxml',\n",
       " '/Volumes/Transcend/pmc-subset/articles.I-N/J_Infect_Dis/J_Infect_Dis_2014_Mar_1_209(5)_749-753.nxml',\n",
       " '/Volumes/Transcend/pmc-subset/articles.I-N/J_Infect_Dis/J_Infect_Dis_2014_May_1_209(9)_1382-1392.nxml',\n",
       " '/Volumes/Transcend/pmc-subset/articles.I-N/J_Infect_Dis/J_Infect_Dis_2014_May_1_209(9)_1446-1451.nxml',\n",
       " '/Volumes/Transcend/pmc-subset/articles.I-N/J_Infect_Dis/J_Infect_Dis_2014_May_1_209(9)_1469-1478.nxml',\n",
       " '/Volumes/Transcend/pmc-subset/articles.I-N/J_Infect_Dis/J_Infect_Dis_2014_Nov_15_210(10)_1605-1615.nxml',\n",
       " '/Volumes/Transcend/pmc-subset/articles.I-N/J_Infect_Dis/J_Infect_Dis_2014_Nov_1_210(9)_1419-1430.nxml',\n",
       " '/Volumes/Transcend/pmc-subset/articles.I-N/J_Infect_Dis/J_Infect_Dis_2014_Nov_1_210(9)_1431-1434.nxml',\n",
       " '/Volumes/Transcend/pmc-subset/articles.I-N/J_Infect_Dis/J_Infect_Dis_2014_Nov_1_210(9)_1487-1498.nxml',\n",
       " '/Volumes/Transcend/pmc-subset/articles.I-N/J_Infect_Dis/J_Infect_Dis_2014_Nov_1_210(Suppl_1)_S439-S446.nxml',\n",
       " '/Volumes/Transcend/pmc-subset/articles.I-N/J_Infect_Dis/J_Infect_Dis_2014_Nov_1_210(Suppl_1)_S504-S513.nxml',\n",
       " '/Volumes/Transcend/pmc-subset/articles.I-N/J_Infect_Dis/J_Infect_Dis_2014_Oct_15_210(8)_1198-1206.nxml',\n",
       " '/Volumes/Transcend/pmc-subset/articles.I-N/J_Infect_Dis/J_Infect_Dis_2014_Oct_15_210(8)_1217-1227.nxml',\n",
       " '/Volumes/Transcend/pmc-subset/articles.I-N/J_Infect_Dis/J_Infect_Dis_2014_Oct_15_210(8)_1260-1269.nxml',\n",
       " '/Volumes/Transcend/pmc-subset/articles.I-N/J_Infect_Dis/J_Infect_Dis_2014_Oct_1_210(7)_1029-1041.nxml',\n",
       " '/Volumes/Transcend/pmc-subset/articles.I-N/J_Infect_Dis/J_Infect_Dis_2014_Sep_15_210(6)_837-845.nxml',\n",
       " '/Volumes/Transcend/pmc-subset/articles.I-N/J_Infect_Dis/J_Infect_Dis_2014_Sep_15_210(6)_853-864.nxml',\n",
       " '/Volumes/Transcend/pmc-subset/articles.I-N/J_Infect_Dis/J_Infect_Dis_2014_Sep_15_210(6)_932-941.nxml',\n",
       " '/Volumes/Transcend/pmc-subset/articles.I-N/J_Infect_Dis/J_Infect_Dis_2014_Sep_15_210(6)_954-963.nxml',\n",
       " '/Volumes/Transcend/pmc-subset/articles.I-N/J_Infect_Dis/J_Infect_Dis_2014_Sep_1_210(5)_752-761.nxml',\n",
       " '/Volumes/Transcend/pmc-subset/articles.I-N/J_Infect_Dis/J_Infect_Dis_2014_Sep_1_210(5)_774-783.nxml',\n",
       " '/Volumes/Transcend/pmc-subset/articles.I-N/J_Infect_Dis/J_Infect_Dis_2015_Apr_15_211(8)_1202-1204.nxml',\n",
       " '/Volumes/Transcend/pmc-subset/articles.I-N/J_Infect_Dis/J_Infect_Dis_2015_Apr_15_211(8)_1279-1287.nxml',\n",
       " '/Volumes/Transcend/pmc-subset/articles.I-N/J_Infect_Dis/J_Infect_Dis_2015_Apr_15_211(8)_1357-1359.nxml',\n",
       " '/Volumes/Transcend/pmc-subset/articles.I-N/J_Infect_Dis/J_Infect_Dis_2015_Apr_1_211(7)_1076-1086.nxml',\n",
       " '/Volumes/Transcend/pmc-subset/articles.I-N/J_Infect_Dis/J_Infect_Dis_2015_Apr_1_211(7)_1097-1103.nxml',\n",
       " '/Volumes/Transcend/pmc-subset/articles.I-N/J_Infect_Dis/J_Infect_Dis_2015_Apr_1_211(7)_1128-1133.nxml',\n",
       " '/Volumes/Transcend/pmc-subset/articles.I-N/J_Infect_Dis/J_Infect_Dis_2015_Apr_1_211(7)_1154-1163.nxml',\n",
       " '/Volumes/Transcend/pmc-subset/articles.I-N/J_Infect_Dis/J_Infect_Dis_2015_Aug_15_212(4)_509-512.nxml',\n",
       " '/Volumes/Transcend/pmc-subset/articles.I-N/J_Infect_Dis/J_Infect_Dis_2015_Aug_15_212(4)_531-541.nxml',\n",
       " '/Volumes/Transcend/pmc-subset/articles.I-N/J_Infect_Dis/J_Infect_Dis_2015_Aug_15_212(4)_570-577.nxml',\n",
       " '/Volumes/Transcend/pmc-subset/articles.I-N/J_Infect_Dis/J_Infect_Dis_2015_Aug_15_212(4)_617-625.nxml',\n",
       " '/Volumes/Transcend/pmc-subset/articles.I-N/J_Infect_Dis/J_Infect_Dis_2015_Aug_15_212(4)_626-634.nxml',\n",
       " '/Volumes/Transcend/pmc-subset/articles.I-N/J_Infect_Dis/J_Infect_Dis_2015_Dec_1_212(11)_1701-1710.nxml',\n",
       " '/Volumes/Transcend/pmc-subset/articles.I-N/J_Infect_Dis/J_Infect_Dis_2015_Dec_1_212(11)_1711-1718.nxml',\n",
       " '/Volumes/Transcend/pmc-subset/articles.I-N/J_Infect_Dis/J_Infect_Dis_2015_Dec_1_212(11)_1752-1758.nxml',\n",
       " '/Volumes/Transcend/pmc-subset/articles.I-N/J_Infect_Dis/J_Infect_Dis_2015_Dec_1_212(11)_1778-1786.nxml',\n",
       " '/Volumes/Transcend/pmc-subset/articles.I-N/J_Infect_Dis/J_Infect_Dis_2015_Dec_1_212(11)_1787-1797.nxml',\n",
       " '/Volumes/Transcend/pmc-subset/articles.I-N/J_Infect_Dis/J_Infect_Dis_2015_Feb_15_211(4)_623-634.nxml',\n",
       " '/Volumes/Transcend/pmc-subset/articles.I-N/J_Infect_Dis/J_Infect_Dis_2015_Feb_15_211(4)_664-665.nxml',\n",
       " '/Volumes/Transcend/pmc-subset/articles.I-N/J_Infect_Dis/J_Infect_Dis_2015_Feb_1_211(3)_497-498.nxml',\n",
       " '/Volumes/Transcend/pmc-subset/articles.I-N/J_Infect_Dis/J_Infect_Dis_2015_Jan_15_211(2)_169-171.nxml',\n",
       " '/Volumes/Transcend/pmc-subset/articles.I-N/J_Infect_Dis/J_Infect_Dis_2015_Jan_15_211(2)_317-321.nxml',\n",
       " '/Volumes/Transcend/pmc-subset/articles.I-N/J_Infect_Dis/J_Infect_Dis_2015_Jan_15_211(2)_331-332.nxml',\n",
       " '/Volumes/Transcend/pmc-subset/articles.I-N/J_Infect_Dis/J_Infect_Dis_2015_Jan_1_211(1)_10-18.nxml',\n",
       " '/Volumes/Transcend/pmc-subset/articles.I-N/J_Infect_Dis/J_Infect_Dis_2015_Jan_1_211(1)_80-90.nxml',\n",
       " '/Volumes/Transcend/pmc-subset/articles.I-N/J_Infect_Dis/J_Infect_Dis_2015_Jul_15_212(2)_275-284.nxml',\n",
       " '/Volumes/Transcend/pmc-subset/articles.I-N/J_Infect_Dis/J_Infect_Dis_2015_Jul_1_212(1)_5-7.nxml',\n",
       " '/Volumes/Transcend/pmc-subset/articles.I-N/J_Infect_Dis/J_Infect_Dis_2015_Jul_1_212(1)_95-105.nxml',\n",
       " '/Volumes/Transcend/pmc-subset/articles.I-N/J_Infect_Dis/J_Infect_Dis_2015_Jun_15_211(12)_1925-1935.nxml',\n",
       " '/Volumes/Transcend/pmc-subset/articles.I-N/J_Infect_Dis/J_Infect_Dis_2015_Jun_15_211(12)_1936-1942.nxml',\n",
       " '/Volumes/Transcend/pmc-subset/articles.I-N/J_Infect_Dis/J_Infect_Dis_2015_Jun_15_211(12)_1977-1986.nxml',\n",
       " '/Volumes/Transcend/pmc-subset/articles.I-N/J_Infect_Dis/J_Infect_Dis_2015_Jun_1_211(11)_1757-1760.nxml',\n",
       " '/Volumes/Transcend/pmc-subset/articles.I-N/J_Infect_Dis/J_Infect_Dis_2015_Jun_1_211(11)_1813-1821.nxml',\n",
       " '/Volumes/Transcend/pmc-subset/articles.I-N/J_Infect_Dis/J_Infect_Dis_2015_Mar_15_211(6)_856-858.nxml',\n",
       " '/Volumes/Transcend/pmc-subset/articles.I-N/J_Infect_Dis/J_Infect_Dis_2015_Mar_15_211(6)_956-967.nxml',\n",
       " '/Volumes/Transcend/pmc-subset/articles.I-N/J_Infect_Dis/J_Infect_Dis_2015_Mar_15_211(Suppl_1)_S1-S20.nxml',\n",
       " '/Volumes/Transcend/pmc-subset/articles.I-N/J_Infect_Dis/J_Infect_Dis_2015_Mar_1_211(5)_801-810.nxml',\n",
       " '/Volumes/Transcend/pmc-subset/articles.I-N/J_Infect_Dis/J_Infect_Dis_2015_Mar_1_211(5)_846-847.nxml',\n",
       " '/Volumes/Transcend/pmc-subset/articles.I-N/J_Infect_Dis/J_Infect_Dis_2015_May_15_211(10)_1517-1518.nxml',\n",
       " '/Volumes/Transcend/pmc-subset/articles.I-N/J_Infect_Dis/J_Infect_Dis_2015_May_15_211(10)_1529-1540.nxml',\n",
       " '/Volumes/Transcend/pmc-subset/articles.I-N/J_Infect_Dis/J_Infect_Dis_2015_May_15_211(10)_1541-1549.nxml',\n",
       " '/Volumes/Transcend/pmc-subset/articles.I-N/J_Infect_Dis/J_Infect_Dis_2015_May_15_211(10)_1597-1606.nxml',\n",
       " '/Volumes/Transcend/pmc-subset/articles.I-N/J_Infect_Dis/J_Infect_Dis_2015_May_15_211(10)_1687.nxml',\n",
       " '/Volumes/Transcend/pmc-subset/articles.I-N/J_Infect_Dis/J_Infect_Dis_2015_May_1_211(9)_1499-1509.nxml',\n",
       " '/Volumes/Transcend/pmc-subset/articles.I-N/J_Infect_Dis/J_Infect_Dis_2015_May_1_211(9)_1510a.nxml',\n",
       " '/Volumes/Transcend/pmc-subset/articles.I-N/J_Infect_Dis/J_Infect_Dis_2015_May_1_211(9)_1510b-1511.nxml',\n",
       " '/Volumes/Transcend/pmc-subset/articles.I-N/J_Infect_Dis/J_Infect_Dis_2015_Nov_15_212(10)_1525-1528.nxml',\n",
       " '/Volumes/Transcend/pmc-subset/articles.I-N/J_Infect_Dis/J_Infect_Dis_2015_Nov_15_212(10)_1563-1573.nxml',\n",
       " '/Volumes/Transcend/pmc-subset/articles.I-N/J_Infect_Dis/J_Infect_Dis_2015_Nov_15_212(10)_1636-1645.nxml',\n",
       " '/Volumes/Transcend/pmc-subset/articles.I-N/J_Infect_Dis/J_Infect_Dis_2015_Oct_15_212(8)_1182-1190.nxml',\n",
       " '/Volumes/Transcend/pmc-subset/articles.I-N/J_Infect_Dis/J_Infect_Dis_2015_Oct_15_212(8)_1279-1287.nxml',\n",
       " '/Volumes/Transcend/pmc-subset/articles.I-N/J_Infect_Dis/J_Infect_Dis_2015_Oct_15_212(8)_1298-1307.nxml',\n",
       " '/Volumes/Transcend/pmc-subset/articles.I-N/J_Infect_Dis/J_Infect_Dis_2015_Oct_15_212(8)_1342-1343.nxml',\n",
       " '/Volumes/Transcend/pmc-subset/articles.I-N/J_Infect_Dis/J_Infect_Dis_2015_Oct_1_212(7)_1120-1128.nxml',\n",
       " '/Volumes/Transcend/pmc-subset/articles.I-N/J_Infect_Dis/J_Infect_Dis_2015_Oct_1_212(7)_1129-1139.nxml',\n",
       " '/Volumes/Transcend/pmc-subset/articles.I-N/J_Infect_Dis/J_Infect_Dis_2015_Oct_1_212(Suppl_2)_S172-S180.nxml',\n",
       " '/Volumes/Transcend/pmc-subset/articles.I-N/J_Infect_Dis/J_Infect_Dis_2015_Oct_1_212(Suppl_2)_S210-S218.nxml',\n",
       " '/Volumes/Transcend/pmc-subset/articles.I-N/J_Infect_Dis/J_Infect_Dis_2015_Oct_1_212(Suppl_2)_S247-S257.nxml',\n",
       " '/Volumes/Transcend/pmc-subset/articles.I-N/J_Infect_Dis/J_Infect_Dis_2015_Oct_1_212(Suppl_2)_S98-S100.nxml',\n",
       " '/Volumes/Transcend/pmc-subset/articles.I-N/J_Infect_Dis/J_Infect_Dis_2015_Sep_1_212(5)_769-778.nxml',\n",
       " '/Volumes/Transcend/pmc-subset/articles.I-N/J_Infect_Dis/J_Infect_Dis_2016_Apr_15_213(8)_1248-1252.nxml',\n",
       " '/Volumes/Transcend/pmc-subset/articles.I-N/J_Infect_Dis/J_Infect_Dis_2016_Apr_15_213(8)_1253-1261.nxml',\n",
       " '/Volumes/Transcend/pmc-subset/articles.I-N/J_Infect_Dis/J_Infect_Dis_2016_Apr_15_213(8)_1271-1279.nxml',\n",
       " '/Volumes/Transcend/pmc-subset/articles.I-N/J_Infect_Dis/J_Infect_Dis_2016_Apr_15_213(8)_1322-1329.nxml',\n",
       " '/Volumes/Transcend/pmc-subset/articles.I-N/J_Infect_Dis/J_Infect_Dis_2016_Apr_15_213(8)_1355-1356.nxml',\n",
       " '/Volumes/Transcend/pmc-subset/articles.I-N/J_Infect_Dis/J_Infect_Dis_2016_Apr_1_213(7)_1055-1056.nxml',\n",
       " '/Volumes/Transcend/pmc-subset/articles.I-N/J_Infect_Dis/J_Infect_Dis_2016_Apr_1_213(7)_1124-1133.nxml',\n",
       " '/Volumes/Transcend/pmc-subset/articles.I-N/J_Infect_Dis/J_Infect_Dis_2016_Apr_1_213(7)_1173-1179.nxml',\n",
       " '/Volumes/Transcend/pmc-subset/articles.I-N/J_Infect_Dis/J_Infect_Dis_2016_Feb_15_213(4)_604-610.nxml',\n",
       " '/Volumes/Transcend/pmc-subset/articles.I-N/J_Infect_Dis/J_Infect_Dis_2016_Feb_1_213(3)_329-331.nxml',\n",
       " '/Volumes/Transcend/pmc-subset/articles.I-N/J_Infect_Dis/J_Infect_Dis_2016_Feb_1_213(3)_485-495.nxml',\n",
       " '/Volumes/Transcend/pmc-subset/articles.I-N/J_Infect_Dis/J_Infect_Dis_2016_Feb_1_213(Suppl_1)_S27-S31.nxml',\n",
       " '/Volumes/Transcend/pmc-subset/articles.I-N/J_Infect_Dis/J_Infect_Dis_2016_Jan_15_213(2)_169-170.nxml',\n",
       " '/Volumes/Transcend/pmc-subset/articles.I-N/J_Infect_Dis/J_Infect_Dis_2016_Jan_15_213(2)_206-215.nxml',\n",
       " '/Volumes/Transcend/pmc-subset/articles.I-N/J_Infect_Dis/J_Infect_Dis_2016_Jan_15_213(2)_266-275.nxml',\n",
       " '/Volumes/Transcend/pmc-subset/articles.I-N/J_Infect_Dis/J_Infect_Dis_2016_Jan_1_213(1)_100-104.nxml',\n",
       " '/Volumes/Transcend/pmc-subset/articles.I-N/J_Infect_Dis/J_Infect_Dis_2016_Jan_1_213(1)_3-5.nxml',\n",
       " '/Volumes/Transcend/pmc-subset/articles.I-N/J_Infect_Dis/J_Infect_Dis_2016_Jan_1_213(1)_31-38.nxml',\n",
       " '/Volumes/Transcend/pmc-subset/articles.I-N/J_Infect_Dis/J_Infect_Dis_2016_Jan_1_213(1)_6-13.nxml',\n",
       " '/Volumes/Transcend/pmc-subset/articles.I-N/J_Infect_Dis/J_Infect_Dis_2016_Jan_1_213(1)_61-70.nxml',\n",
       " '/Volumes/Transcend/pmc-subset/articles.I-N/J_Infect_Dis/J_Infect_Dis_2016_Mar_15_213(6)_880-882.nxml',\n",
       " '/Volumes/Transcend/pmc-subset/articles.I-N/J_Infect_Dis/J_Infect_Dis_2016_Mar_15_213(6)_934-938.nxml',\n",
       " '/Volumes/Transcend/pmc-subset/articles.I-N/J_Infect_Dis/J_Infect_Dis_2016_Mar_1_213(5)_731-737.nxml',\n",
       " '/Volumes/Transcend/pmc-subset/articles.I-N/J_Infect_Dis/J_Infect_Dis_2016_Mar_1_213(5)_784-787.nxml',\n",
       " '/Volumes/Transcend/pmc-subset/articles.I-N/J_Infect_Dis/J_Infect_Dis_2016_Mar_1_213(5)_788-793.nxml',\n",
       " '/Volumes/Transcend/pmc-subset/articles.I-N/J_Infect_Dis/J_Infect_Dis_2016_Mar_1_213(5)_794-799.nxml',\n",
       " '/Volumes/Transcend/pmc-subset/articles.I-N/J_Infect_Dis/J_Infect_Dis_2016_Mar_1_213(5)_824-830.nxml',\n",
       " '/Volumes/Transcend/pmc-subset/articles.I-N/J_Infect_Dis/J_Infect_Dis_2016_May_1_213(9)_1410-1418.nxml',\n",
       " '/Volumes/Transcend/pmc-subset/articles.I-N/J_Infect_Dis/J_Infect_Dis_2016_May_1_213(9)_1466-1471.nxml',\n",
       " '/Volumes/Transcend/pmc-subset/articles.I-N/J_Infect_Dis/J_Infect_Dis_2016_May_1_213(Suppl_3)_S101-S107.nxml',\n",
       " '/Volumes/Transcend/pmc-subset/articles.I-N/J_Infect_Dis/J_Infect_Dis_2016_May_1_213(Suppl_3)_S108-S115.nxml',\n",
       " '/Volumes/Transcend/pmc-subset/articles.I-N/J_Infect_Dis/J_Infect_Dis_2016_May_1_213(Suppl_3)_S116-S123.nxml',\n",
       " '/Volumes/Transcend/pmc-subset/articles.I-N/J_Infect_Dis/J_Infect_Dis_2016_May_1_213(Suppl_3)_S124-S130.nxml',\n",
       " '/Volumes/Transcend/pmc-subset/articles.I-N/J_Infect_Dis/J_Infect_Dis_2016_May_1_213(Suppl_3)_S131-S135.nxml',\n",
       " '/Volumes/Transcend/pmc-subset/articles.I-N/J_Infect_Dis/J_Infect_Dis_2016_May_1_213(Suppl_3)_S136-S139.nxml',\n",
       " '/Volumes/Transcend/pmc-subset/articles.I-N/J_Infect_Dis/J_Infect_Dis_2016_May_1_213(Suppl_3)_S140-S146.nxml',\n",
       " '/Volumes/Transcend/pmc-subset/articles.I-N/J_Infect_Dis/J_Infect_Dis_2016_May_1_213(Suppl_3)_S147-S150.nxml',\n",
       " '/Volumes/Transcend/pmc-subset/articles.I-N/J_Infect_Dis/J_Infect_Dis_2016_May_1_213(Suppl_3)_S65-S66.nxml',\n",
       " '/Volumes/Transcend/pmc-subset/articles.I-N/J_Infect_Dis/J_Infect_Dis_2016_May_1_213(Suppl_3)_S67-S72.nxml',\n",
       " '/Volumes/Transcend/pmc-subset/articles.I-N/J_Infect_Dis/J_Infect_Dis_2016_May_1_213(Suppl_3)_S73-S78.nxml',\n",
       " '/Volumes/Transcend/pmc-subset/articles.I-N/J_Infect_Dis/J_Infect_Dis_2016_May_1_213(Suppl_3)_S79-S85.nxml',\n",
       " '/Volumes/Transcend/pmc-subset/articles.I-N/J_Infect_Dis/J_Infect_Dis_2016_May_1_213(Suppl_3)_S86-S90.nxml',\n",
       " '/Volumes/Transcend/pmc-subset/articles.I-N/J_Infect_Dis/J_Infect_Dis_2016_May_1_213(Suppl_3)_S91-S95.nxml',\n",
       " '/Volumes/Transcend/pmc-subset/articles.I-N/J_Infect_Dis/J_Infect_Dis_2016_May_1_213(Suppl_3)_S96-S100.nxml']"
      ]
     },
     "execution_count": 7,
     "metadata": {},
     "output_type": "execute_result"
    }
   ],
   "source": [
    "article_paths"
   ]
  },
  {
   "cell_type": "code",
   "execution_count": null,
   "metadata": {
    "collapsed": false
   },
   "outputs": [],
   "source": [
    "articles.drop()\n",
    "for path in article_paths:\n",
    "    article = get_article(path)\n",
    "    articles.insert_one(article)"
   ]
  },
  {
   "cell_type": "code",
   "execution_count": 6,
   "metadata": {
    "collapsed": false
   },
   "outputs": [
    {
     "data": {
      "text/plain": [
       "1266085"
      ]
     },
     "execution_count": 6,
     "metadata": {},
     "output_type": "execute_result"
    }
   ],
   "source": [
    "articles.count()"
   ]
  }
 ],
 "metadata": {
  "kernelspec": {
   "display_name": "Python 3",
   "language": "python",
   "name": "python3"
  },
  "language_info": {
   "codemirror_mode": {
    "name": "ipython",
    "version": 3
   },
   "file_extension": ".py",
   "mimetype": "text/x-python",
   "name": "python",
   "nbconvert_exporter": "python",
   "pygments_lexer": "ipython3",
   "version": "3.5.2"
  }
 },
 "nbformat": 4,
 "nbformat_minor": 0
}
