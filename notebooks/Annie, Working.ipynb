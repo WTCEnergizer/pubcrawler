{
 "cells": [
  {
   "cell_type": "code",
   "execution_count": 1,
   "metadata": {
    "collapsed": true
   },
   "outputs": [],
   "source": [
    "import pymongo\n",
    "import os\n",
    "os.chdir(\"..\")\n",
    "os.getcwd()\n",
    "\n",
    "from pubcrawler.article import Article, GeoArticle"
   ]
  },
  {
   "cell_type": "code",
   "execution_count": 2,
   "metadata": {
    "collapsed": true
   },
   "outputs": [],
   "source": [
    "articles = pymongo.MongoClient().pmc.articlesubset"
   ]
  },
  {
   "cell_type": "code",
   "execution_count": 3,
   "metadata": {
    "collapsed": true
   },
   "outputs": [],
   "source": [
    "x = GeoArticle(articles.find_one())\n",
    "x.annotate_geonames()"
   ]
  },
  {
   "cell_type": "code",
   "execution_count": 4,
   "metadata": {
    "collapsed": false
   },
   "outputs": [
    {
     "data": {
      "text/plain": [
       "'[{\"start\": 149, \"label\": \"United States\", \"end\": 162, \"geoname\": {\"timezone\": \"\", \"score\": 109.80192518038368, \"name\": \"United States\", \"geonameid\": \"6252001\", \"latitude\": 39.76, \"admin4 code\": \"\", \"dem\": \"543\", \"longitude\": -98.5, \"feature code\": \"PCLI\", \"cc2\": \"\", \"admin2 code\": \"\", \"country code\": \"US\", \"population\": 310232863, \"modification date\": \"2016-02-20\", \"admin3 code\": \"\", \"admin1 code\": \"00\", \"asciiname\": \"United States\", \"feature class\": \"A\", \"elevation\": 0}}]'"
      ]
     },
     "execution_count": 4,
     "metadata": {},
     "output_type": "execute_result"
    }
   ],
   "source": [
    "x.geonames.to_json()"
   ]
  },
  {
   "cell_type": "markdown",
   "metadata": {},
   "source": [
    "Yes!"
   ]
  }
 ],
 "metadata": {
  "kernelspec": {
   "display_name": "Python 3",
   "language": "python",
   "name": "python3"
  },
  "language_info": {
   "codemirror_mode": {
    "name": "ipython",
    "version": 3
   },
   "file_extension": ".py",
   "mimetype": "text/x-python",
   "name": "python",
   "nbconvert_exporter": "python",
   "pygments_lexer": "ipython3",
   "version": "3.5.2"
  }
 },
 "nbformat": 4,
 "nbformat_minor": 0
}
