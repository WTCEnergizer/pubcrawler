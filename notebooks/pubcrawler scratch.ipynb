{
 "cells": [
  {
   "cell_type": "code",
   "execution_count": 49,
   "metadata": {
    "collapsed": true
   },
   "outputs": [],
   "source": [
    "import sys, csv\n",
    "import unicodecsv\n",
    "import pymongo\n",
    "import time\n",
    "\n",
    "import argparse"
   ]
  },
  {
   "cell_type": "code",
   "execution_count": 50,
   "metadata": {
    "collapsed": true
   },
   "outputs": [],
   "source": [
    "def parse_number(num, default):\n",
    "    try:\n",
    "        return int(num)\n",
    "    except ValueError:\n",
    "        try:\n",
    "            return float(num)\n",
    "        except ValueError:\n",
    "            return default"
   ]
  },
  {
   "cell_type": "code",
   "execution_count": 3,
   "metadata": {
    "collapsed": true
   },
   "outputs": [],
   "source": [
    "def read_geonames_csv(file_path):\n",
    "    geonames_fields=[\n",
    "        'geonameid',\n",
    "        'name',\n",
    "        'asciiname',\n",
    "        'alternatenames',\n",
    "        'latitude',\n",
    "        'longitude',\n",
    "        'feature class',\n",
    "        'feature code',\n",
    "        'country code',\n",
    "        'cc2',\n",
    "        'admin1 code',\n",
    "        'admin2 code',\n",
    "        'admin3 code',\n",
    "        'admin4 code',\n",
    "        'population',\n",
    "        'elevation',\n",
    "        'dem',\n",
    "        'timezone',\n",
    "        'modification date',\n",
    "    ]\n",
    "    #Loading geonames data may cause errors without this line:\n",
    "    csv.field_size_limit(2**32)\n",
    "    with open(file_path, 'rb') as f:\n",
    "        reader = unicodecsv.DictReader(f,\n",
    "            fieldnames=geonames_fields,\n",
    "            encoding='utf-8',\n",
    "            delimiter='\\t',\n",
    "            quoting=csv.QUOTE_NONE)\n",
    "        for d in reader:\n",
    "            d['population'] = parse_number(d['population'], 0)\n",
    "            d['latitude'] = parse_number(d['latitude'], 0)\n",
    "            d['longitude'] = parse_number(d['longitude'], 0)\n",
    "            d['elevation'] = parse_number(d['elevation'], 0)\n",
    "            if len(d['alternatenames']) > 0:\n",
    "                d['alternatenames'] = d['alternatenames'].split(',')\n",
    "            else:\n",
    "                d['alternatenames'] = []\n",
    "            yield d"
   ]
  },
  {
   "cell_type": "code",
   "execution_count": 4,
   "metadata": {
    "collapsed": true
   },
   "outputs": [],
   "source": [
    "parser = argparse.ArgumentParser()\n",
    "parser.add_argument(\n",
    "    \"--mongo_url\", default='localhost'\n",
    ")\n",
    "parser.add_argument(\n",
    "    \"--db_name\", default='geonames'\n",
    ")\n",
    "args, unknown = parser.parse_known_args()\n",
    "# Not in iPython notebook:\n",
    "# args = parser.parse_args()\n",
    "print \"This takes me about a half hour to run on my machine...\"\n",
    "db = pymongo.Connection(args.mongo_url)[args.db_name]\n",
    "c = pymongo.MongoClient(args.mongo_url)\n",
    "c[args.db_name]\n",
    "db = c.geonames\n",
    "collection = db.cities1000\n",
    "collection.drop()\n",
    "for i, geoname in enumerate(read_geonames_csv('../cities1001.txt')):\n",
    "    total_row_estimate = 10000000\n",
    "    if i % (total_row_estimate / 10) == 0:\n",
    "        print i, '/', total_row_estimate, '+ geonames imported'\n",
    "    collection.insert(geoname)\n",
    "collection.ensure_index('name')\n",
    "collection.ensure_index('alternatenames')\n",
    "# Test that the collection contains some of the locations we would expect,\n",
    "# and that it completes in a reasonable amount of time.\n",
    "# TODO: Run the geoname extractor here.\n",
    "start_time = time.time()\n",
    "test_names = ['El Tarter', 'Riu Valira del Nord', 'Bosque de Soldeu', 'New York', 'Africa', 'Canada', 'Kirkland']\n",
    "query = collection.find({\n",
    "    '$or' : [\n",
    "        {\n",
    "            'name' : { '$in' : test_names }\n",
    "        },\n",
    "        {\n",
    "            'alternatenames' : { '$in' : test_names }\n",
    "        }\n",
    "    ]\n",
    "})\n",
    "found_names = set()\n",
    "for geoname in query:\n",
    "    found_names.add(geoname['name'])\n",
    "    for alt in geoname['alternatenames']:\n",
    "        found_names.add(alt)\n",
    "difference = set(test_names) - found_names\n",
    "if difference != set():\n",
    "    print \"Test failed!\"\n",
    "    print \"Missing names:\", difference\n",
    "if time.time() - start_time > 15:\n",
    "    print \"Warning: query took over 15 seconds.\"\n",
    "# That's fine.\n",
    "c.disconnect()"
   ]
  },
  {
   "cell_type": "code",
   "execution_count": null,
   "metadata": {
    "collapsed": true
   },
   "outputs": [],
   "source": []
  },
  {
   "cell_type": "code",
   "execution_count": null,
   "metadata": {
    "collapsed": true
   },
   "outputs": [],
   "source": []
  }
 ],
 "metadata": {
  "kernelspec": {
   "display_name": "Python 2",
   "language": "python",
   "name": "python2"
  },
  "language_info": {
   "codemirror_mode": {
    "name": "ipython",
    "version": 2
   },
   "file_extension": ".py",
   "mimetype": "text/x-python",
   "name": "python",
   "nbconvert_exporter": "python",
   "pygments_lexer": "ipython2",
   "version": "2.7.9"
  }
 },
 "nbformat": 4,
 "nbformat_minor": 0
}
