{
 "cells": [
  {
   "cell_type": "code",
   "execution_count": 202,
   "metadata": {
    "collapsed": true
   },
   "outputs": [],
   "source": [
    "from pymongo import MongoClient\n",
    "import time\n",
    "import pandas as pd\n",
    "\n",
    "articles = MongoClient()['pmc']['articles']\n",
    "geonames = MongoClient()['geonames']['allCountries']\n",
    "\n",
    "articles.count({'index.infectious': 1})\n",
    "\n",
    "articles.count({'meta.article-type': 'research-article'})\n",
    "\n",
    "articles.count({'index.infectious': 1, 'meta.article-type': 'research-article'})\n",
    "\n",
    "cursor = articles.find({'index.infectious': 1, 'meta.article-type': 'research-article'})\n",
    "\n",
    "projection = {'_id': 0, 'geonameid': 1, 'name': 1, 'latitude': 1, 'longitude': 1, 'population': 1}\n",
    "\n",
    "def geoname_dataframe(article, projection=None):\n",
    "    if projection is None:\n",
    "        projection = {'_id': 0, 'geonameid': 1, 'name': 1, 'latitude': 1, 'longitude': 1, 'population': 1}\n",
    "    df = pd.DataFrame()\n",
    "    if len(article['geonames']['culled']) == 0: # In the future, this should raise an error\n",
    "        return(df)\n",
    "    for loc in article['geonames']['culled']:\n",
    "        row = geonames.find_one({'geonameid': loc['geonameid']}, projection)\n",
    "        df = df.append(row, ignore_index=True)\n",
    "    # Count multiple mentions and add a column for that, then drop duplicates.\n",
    "    df['count'] = df.groupby('geonameid')['geonameid'].transform(pd.Series.value_counts)\n",
    "    df = df.drop_duplicates()\n",
    "    # Have a column to ID.\n",
    "    df['article_id'] = article['_id']\n",
    "    return(df)"
   ]
  }
 ],
 "metadata": {
  "kernelspec": {
   "display_name": "Python 3",
   "language": "python",
   "name": "python3"
  },
  "language_info": {
   "codemirror_mode": {
    "name": "ipython",
    "version": 3
   },
   "file_extension": ".py",
   "mimetype": "text/x-python",
   "name": "python",
   "nbconvert_exporter": "python",
   "pygments_lexer": "ipython3",
   "version": "3.5.2"
  }
 },
 "nbformat": 4,
 "nbformat_minor": 0
}
