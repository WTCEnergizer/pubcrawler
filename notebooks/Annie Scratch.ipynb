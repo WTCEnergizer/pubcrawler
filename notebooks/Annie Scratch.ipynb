{
 "cells": [
  {
   "cell_type": "code",
   "execution_count": null,
   "metadata": {
    "collapsed": false
   },
   "outputs": [],
   "source": [
    "import annotator\n",
    "import os\n",
    "import pymongo\n",
    "import inspect\n",
    "from annotator import annotator, geoname_annotator, ngram_annotator, token_annotator, ne_annotator\n",
    "import nltk"
   ]
  },
  {
   "cell_type": "code",
   "execution_count": 1,
   "metadata": {
    "collapsed": false
   },
   "outputs": [
    {
     "data": {
      "text/plain": [
       "'/Users/toph/Dropbox (EHA)/repositories/pubcrawler'"
      ]
     },
     "execution_count": 1,
     "metadata": {},
     "output_type": "execute_result"
    }
   ],
   "source": [
    "import pymongo\n",
    "import os\n",
    "os.chdir(\"..\")\n",
    "os.getcwd()\n",
    "\n",
    "from pubcrawler.article import Article, GeoArticle"
   ]
  },
  {
   "cell_type": "code",
   "execution_count": 3,
   "metadata": {
    "collapsed": false
   },
   "outputs": [],
   "source": [
    "articles = pymongo.MongoClient().pmc.articlesubset"
   ]
  },
  {
   "cell_type": "code",
   "execution_count": null,
   "metadata": {
    "collapsed": true
   },
   "outputs": [],
   "source": [
    "class GeoArticle(Article):\n",
    "    def __init__(self, article_dict):\n",
    "        Article.__init__(self, article_dict)\n",
    "\n",
    "    def annotate_geonames(self):\n",
    "        text = self.body()\n",
    "        self.annotations = annotator.AnnoDoc(text)\n",
    "        TokenAnnotator = token_annotator.TokenAnnotator(tokenizer=nltk.tokenize.RegexpTokenizer('\\w+|[^\\w\\s]+'))\n",
    "        NgramAnnotator = ngram_annotator.NgramAnnotator()\n",
    "        NEAnnotator = ne_annotator.NEAnnotator()\n",
    "        GeonameAnnotator = geoname_annotator.GeonameAnnotator()\n",
    "        TokenAnnotator.annotate(self.annotations)\n",
    "        NgramAnnotator.annotate(self.annotations)\n",
    "        NEAnnotator.annotate(self.annotations)\n",
    "        GeonameAnnotator.annotate(self.annotations)\n",
    "        self.geonames = self.annotations.tiers['geonames']"
   ]
  },
  {
   "cell_type": "code",
   "execution_count": 4,
   "metadata": {
    "collapsed": false
   },
   "outputs": [],
   "source": [
    "x = GeoArticle(articles.find_one())"
   ]
  },
  {
   "cell_type": "code",
   "execution_count": 5,
   "metadata": {
    "collapsed": false,
    "scrolled": true
   },
   "outputs": [],
   "source": [
    "x.annotate_geonames()"
   ]
  },
  {
   "cell_type": "code",
   "execution_count": 8,
   "metadata": {
    "collapsed": false
   },
   "outputs": [
    {
     "data": {
      "text/plain": [
       "'[{\"geoname\": {\"admin1 code\": \"00\", \"elevation\": 0, \"feature class\": \"A\", \"asciiname\": \"United States\", \"longitude\": -98.5, \"feature code\": \"PCLI\", \"timezone\": \"\", \"modification date\": \"2016-02-20\", \"admin3 code\": \"\", \"cc2\": \"\", \"name\": \"United States\", \"dem\": \"543\", \"geonameid\": \"6252001\", \"population\": 310232863, \"country code\": \"US\", \"admin4 code\": \"\", \"latitude\": 39.76, \"admin2 code\": \"\", \"score\": 109.80192518038368}, \"label\": \"United States\", \"end\": 162, \"start\": 149}]'"
      ]
     },
     "execution_count": 8,
     "metadata": {},
     "output_type": "execute_result"
    }
   ],
   "source": [
    "x.geonames.to_json()"
   ]
  },
  {
   "cell_type": "code",
   "execution_count": null,
   "metadata": {
    "collapsed": false
   },
   "outputs": [],
   "source": [
    "from annotator import annotator\n",
    "from annotator import geoname_annotator\n",
    "from annotator import ngram_annotator\n",
    "from annotator import token_annotator\n",
    "from annotator import *\n",
    "import nltk"
   ]
  },
  {
   "cell_type": "code",
   "execution_count": null,
   "metadata": {
    "collapsed": false
   },
   "outputs": [],
   "source": [
    "s = \"\"\"\n",
    "Arkansas' biggest cluster of mumps cases in more than 5 years has been confirmed in the north west part of the state, and unvaccinated students at affected schools are being asked to stay home until the outbreak ends. There are 2 confirmed cases and 7 suspected cases of mumps in the Springdale area, which is the largest cluster since 2010, the Arkansas Department of Health said on Wed 31 Aug [2016].\n",
    "\n",
    "The outbreak currently affects 4 schools in the Springdale School District. Health Department spokeswoman Meg Mirivel said that unvaccinated students who attend a school with a confirmed case of mumps must stay home for 26 calendar days -- the maximum incubation period for mumps -- from the point of exposure. Mirivel said those afflicted include both vaccinated and unvaccinated people.\n",
    "\n",
    "Mumps is a viral infection that causes swelling in the salivary glands and cheeks. Those with the illness may also have headaches, fatigue, muscle aches, and low-grade fevers.\n",
    "\n",
    "'Mumps is easily spread from person to person,' state epidemiologist Dr Dirk Haselow said. 'We expect to see more cases in the coming weeks. We urge Arkansans to make sure that they and their loved ones are up-to-date on the MMR (measles, mumps, and rubella) vaccine.'\n",
    "\"\"\"\n",
    "y = annotator.AnnoDoc(s)"
   ]
  },
  {
   "cell_type": "code",
   "execution_count": null,
   "metadata": {
    "collapsed": false
   },
   "outputs": [],
   "source": [
    "GeonameAnnotator = geoname_annotator.GeonameAnnotator()\n",
    "NgramAnnotator = ngram_annotator.NgramAnnotator()\n",
    "TokenAnnotator = token_annotator.TokenAnnotator(tokenizer=nltk.tokenize.RegexpTokenizer('\\w+|[^\\w\\s]+'))\n",
    "NEAnnotator = ne_annotator.NEAnnotator()\n",
    "\n",
    "TokenAnnotator.annotate(y)\n",
    "NgramAnnotator.annotate(y)\n",
    "NEAnnotator.annotate(y)\n",
    "GeonameAnnotator.annotate(y)\n",
    "\n",
    "\n",
    "y.tiers['geonames']"
   ]
  },
  {
   "cell_type": "code",
   "execution_count": null,
   "metadata": {
    "collapsed": false
   },
   "outputs": [],
   "source": []
  },
  {
   "cell_type": "code",
   "execution_count": null,
   "metadata": {
    "collapsed": false
   },
   "outputs": [],
   "source": []
  },
  {
   "cell_type": "code",
   "execution_count": null,
   "metadata": {
    "collapsed": true
   },
   "outputs": [],
   "source": []
  }
 ],
 "metadata": {
  "kernelspec": {
   "display_name": "Python 3",
   "language": "python",
   "name": "python3"
  },
  "language_info": {
   "codemirror_mode": {
    "name": "ipython",
    "version": 3
   },
   "file_extension": ".py",
   "mimetype": "text/x-python",
   "name": "python",
   "nbconvert_exporter": "python",
   "pygments_lexer": "ipython3",
   "version": "3.5.2"
  }
 },
 "nbformat": 4,
 "nbformat_minor": 0
}
