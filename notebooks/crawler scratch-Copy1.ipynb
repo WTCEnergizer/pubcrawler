{
 "cells": [
  {
   "cell_type": "code",
   "execution_count": 1,
   "metadata": {
    "collapsed": true
   },
   "outputs": [],
   "source": [
    "import os\n",
    "os.chdir(\"..\")"
   ]
  },
  {
   "cell_type": "code",
   "execution_count": 2,
   "metadata": {
    "collapsed": true
   },
   "outputs": [],
   "source": [
    "\"\"\"\n",
    "\n",
    "This script iterates over a specified collection of nxml articles and extracts a\n",
    "specified set of data from them.\n",
    "\n",
    "You can specify the url for the Mongo server, as well as the name of the\n",
    "database and collection.\n",
    "\n",
    "You *must* also specify one or more of the extractor functions from the\n",
    "pubcrawler.extractors module. But specify them by just their name; this package\n",
    "adds the correct suffix automatically. This should be fixed in a later version,\n",
    "but it was the only good way to allow an argument from the command line.\n",
    "\n",
    "You can also specify a -skip_field. You don't have to do this, but it's best to,\n",
    "because this is what's used to report progress (because of ugly multiprocess\n",
    "stuff, and because python's Queue.qsize() method is not implemented on macOS).\n",
    "\n",
    "You can also specify a limit, as well as the number of worker processes you\n",
    "want.\n",
    "\n",
    "\"\"\"\n",
    "\n",
    "import multiprocessing as mp\n",
    "import time\n",
    "import sys\n",
    "import pymongo\n",
    "# from annotator.keyword_annotator import KeywordAnnotator\n",
    "# from annotator.geoname_annotator import GeonameAnnotator\n",
    "import pubcrawler.extractors as ex"
   ]
  },
  {
   "cell_type": "code",
   "execution_count": 4,
   "metadata": {
    "collapsed": true
   },
   "outputs": [],
   "source": [
    "def chunk_slices(length, by):\n",
    "    items = list(range(0, length + 1, by))\n",
    "    if length % by != 0:\n",
    "        items.append(length)\n",
    "    slices = [slice(items[i], items[i+1]) for i in range(0, len(items)-1)]\n",
    "    return(slices)\n",
    "\n",
    "def worker(url, db, collection, to_extract, query, index_queue):\n",
    "    articles = pymongo.MongoClient()[db][collection]\n",
    "    cursor = articles.find(query, modifiers={\"$snapshot\": True})\n",
    "    print(\"Cursor count: {}\".format(cursor.count()))\n",
    "    for i in iter(index_queue.get, 'STOP'):\n",
    "        print(\"Trying article {}.\".format(i))\n",
    "        try:\n",
    "            article = cursor[i]\n",
    "        except IndexError:\n",
    "            print(\"Failed lookup for article{}.\".format(i))\n",
    "            continue\n",
    "        to_write = ex.combine_extracted_info(article, to_extract)\n",
    "        articles.update_one({'_id': article['_id']}, {'$set': to_write})"
   ]
  },
  {
   "cell_type": "code",
   "execution_count": 2,
   "metadata": {
    "collapsed": false
   },
   "outputs": [
    {
     "name": "stdout",
     "output_type": "stream",
     "text": [
      "Namespace(c='articlesubset', d='pmc', l=None, s='meta', u='localhost', w='8', x=['extract_meta'])\n"
     ]
    }
   ],
   "source": [
    "import argparse\n",
    "parser = argparse.ArgumentParser()\n",
    "parser.add_argument(\n",
    "    \"-u\", \"--mongo_url\", default=\"localhost\", dest = \"u\"\n",
    ")\n",
    "parser.add_argument(\n",
    "    \"-d\", \"--mongo_db\", default=\"pmc\", dest = \"d\"\n",
    ")\n",
    "parser.add_argument(\n",
    "    \"-c\", \"--mongo_collection\", default=\"articlesubset\", dest = \"c\"\n",
    ")\n",
    "parser.add_argument(\n",
    "    \"-x\", \"-extract\", action=\"append\", default=None, dest = \"x\"\n",
    ")\n",
    "parser.add_argument(\n",
    "    \"-s\", \"-skip_field\", default=None, dest = \"s\"\n",
    ")\n",
    "parser.add_argument(\n",
    "    \"-w\", \"-workers\", default=4, dest = \"w\"\n",
    ")\n",
    "parser.add_argument(\n",
    "    \"-l\", \"-limit\", default=None, dest = \"l\"\n",
    ")\n",
    "args = parser.parse_args([\"-x\", \"extract_meta\", \"-s\", \"meta\", \"-w\", \"8\", \"-c\", \"articlesubset\"])\n",
    "print(args)"
   ]
  },
  {
   "cell_type": "code",
   "execution_count": null,
   "metadata": {
    "collapsed": true
   },
   "outputs": [],
   "source": [
    "if args.x is not None:\n",
    "    extractor_funs = [eval(x) for x in ['ex.' + x for x in args.x]]\n",
    "else:\n",
    "    print(\"Please specify at least one extractor function\", file=sys.stderr)\n",
    "    sys.exit(1)\n",
    "\n",
    "if args.s is not None:\n",
    "    query = {args.s: {'$exists': False}}\n",
    "else:\n",
    "    query = {}\n",
    "\n",
    "print(\"Making connection.\")\n",
    "articles = pymongo.MongoClient(args.u)[args.d][args.c]\n",
    "\n",
    "print(\"About to count.\")\n",
    "total_for_query = articles.count(query)\n",
    "num_to_annotate = args.l if args.l is not None else total_for_query\n",
    "num_workers = int(args.w)\n",
    "print(\"Total for query is {}.\".format(total_for_query))\n",
    "\n",
    "queue = mp.Queue()\n",
    "for i in range(num_to_annotate):\n",
    "    queue.put(i)\n",
    "for w in range(num_workers):\n",
    "    queue.put('STOP')\n",
    "\n",
    "# # Chunking, which we don't do any more.\n",
    "# queue = mp.Queue()\n",
    "# for i in chunk_slices(num_to_annotate, by = 100):\n",
    "#     queue.put(i)\n",
    "# for w in range(num_workers):\n",
    "#     queue.put('STOP')\n",
    "\n",
    "worker_args = (\n",
    "    args.u,\n",
    "    args.d,\n",
    "    args.c,\n",
    "    extractor_funs,\n",
    "    query,\n",
    "    queue,\n",
    ")\n",
    "\n",
    "print(\"About to start.\")\n",
    "\n",
    "for w in range(num_workers):\n",
    "    mp.Process(target=worker, args=worker_args).start()\n",
    "\n",
    "# while not queue.empty():\n",
    "#     print(\"Still going...\")\n",
    "#     # total_for_query_now = articles.count(query)\n",
    "#     # done = total_for_query - total_for_query_now\n",
    "#     # left = num_to_annotate - done\n",
    "#     # print(\"Annotated {} out of {} articles ({:.2%}). {} remaining.\".format(done,\n",
    "#         # num_to_annotate, done / num_to_annotate, left))\n",
    "#     time.sleep(5)"
   ]
  },
  {
   "cell_type": "code",
   "execution_count": null,
   "metadata": {
    "collapsed": true
   },
   "outputs": [],
   "source": [
    "test.drop()"
   ]
  },
  {
   "cell_type": "code",
   "execution_count": 3,
   "metadata": {
    "collapsed": true
   },
   "outputs": [],
   "source": [
    "test = pymongo.MongoClient()[\"test\"][\"test\"]"
   ]
  },
  {
   "cell_type": "code",
   "execution_count": 47,
   "metadata": {
    "collapsed": false
   },
   "outputs": [],
   "source": [
    "for i in range(1000):\n",
    "    test.insert_one({\"_id\": i})"
   ]
  },
  {
   "cell_type": "code",
   "execution_count": 10,
   "metadata": {
    "collapsed": true
   },
   "outputs": [],
   "source": [
    "cursor1 = test.find()"
   ]
  },
  {
   "cell_type": "code",
   "execution_count": 5,
   "metadata": {
    "collapsed": true
   },
   "outputs": [],
   "source": [
    "query = {\"foo\": {'$exists': False}}"
   ]
  },
  {
   "cell_type": "code",
   "execution_count": 6,
   "metadata": {
    "collapsed": false
   },
   "outputs": [],
   "source": [
    "cursor1 = test.find(query)"
   ]
  },
  {
   "cell_type": "code",
   "execution_count": 7,
   "metadata": {
    "collapsed": false
   },
   "outputs": [
    {
     "data": {
      "text/plain": [
       "range(0, 1000)"
      ]
     },
     "execution_count": 7,
     "metadata": {},
     "output_type": "execute_result"
    }
   ],
   "source": [
    "x = range(test.find(query).count())\n",
    "x"
   ]
  },
  {
   "cell_type": "code",
   "execution_count": 52,
   "metadata": {
    "collapsed": false
   },
   "outputs": [],
   "source": [
    "queue = mp.Queue()\n",
    "for i in x:\n",
    "    queue.put(i)"
   ]
  },
  {
   "cell_type": "code",
   "execution_count": 53,
   "metadata": {
    "collapsed": true
   },
   "outputs": [],
   "source": [
    "cursor1 = test.find(query)\n",
    "cursor2 = test.find(query)"
   ]
  },
  {
   "cell_type": "code",
   "execution_count": 57,
   "metadata": {
    "collapsed": false
   },
   "outputs": [
    {
     "name": "stdout",
     "output_type": "stream",
     "text": [
      "Trying article 2.\n",
      "{'_id': 2}\n"
     ]
    },
    {
     "data": {
      "text/plain": [
       "<pymongo.results.UpdateResult at 0x109d241b0>"
      ]
     },
     "execution_count": 57,
     "metadata": {},
     "output_type": "execute_result"
    }
   ],
   "source": [
    "i = queue.get()\n",
    "print(\"Trying article {}.\".format(i))\n",
    "try:\n",
    "    article = cursor1[i]\n",
    "    print(article)\n",
    "except IndexError:\n",
    "    print(\"Failed lookup for article{}.\".format(i))\n",
    "to_write = {\"meta\": \"bar\"}\n",
    "test.update_one({'_id': article['_id']}, {'$set': to_write})"
   ]
  },
  {
   "cell_type": "code",
   "execution_count": 56,
   "metadata": {
    "collapsed": false
   },
   "outputs": [
    {
     "name": "stdout",
     "output_type": "stream",
     "text": [
      "Trying article 1.\n",
      "{'_id': 1}\n"
     ]
    },
    {
     "data": {
      "text/plain": [
       "<pymongo.results.UpdateResult at 0x109d24d80>"
      ]
     },
     "execution_count": 56,
     "metadata": {},
     "output_type": "execute_result"
    }
   ],
   "source": [
    "i = queue.get()\n",
    "print(\"Trying article {}.\".format(i))\n",
    "try:\n",
    "    article = cursor2[i]\n",
    "    print(article)\n",
    "except IndexError:\n",
    "    print(\"Failed lookup for article{}.\".format(i))\n",
    "to_write = {\"meta\": \"bar\"}\n",
    "test.update_one({'_id': article['_id']}, {'$set': to_write})"
   ]
  },
  {
   "cell_type": "code",
   "execution_count": null,
   "metadata": {
    "collapsed": true
   },
   "outputs": [],
   "source": []
  }
 ],
 "metadata": {
  "kernelspec": {
   "display_name": "Python 3",
   "language": "python",
   "name": "python3"
  },
  "language_info": {
   "codemirror_mode": {
    "name": "ipython",
    "version": 3
   },
   "file_extension": ".py",
   "mimetype": "text/x-python",
   "name": "python",
   "nbconvert_exporter": "python",
   "pygments_lexer": "ipython3",
   "version": "3.5.2"
  }
 },
 "nbformat": 4,
 "nbformat_minor": 0
}
